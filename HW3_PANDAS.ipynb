{
 "cells": [
  {
   "cell_type": "markdown",
   "id": "3cf499ff-8f9a-4506-ba8d-92b6dc390c9c",
   "metadata": {},
   "source": [
    "# Задание 3. Pandas (HW)\n",
    "Используя библиотеку pandas (или аналоги), проанализировать как можно больше характеристик, влияющих на успеваемость студентов."
   ]
  },
  {
   "cell_type": "code",
   "execution_count": 4,
   "id": "c8d81d67-644f-4749-8120-e041cc7727eb",
   "metadata": {},
   "outputs": [],
   "source": [
    "import numpy as np\n",
    "import pandas as pd\n",
    "import seaborn as sns\n",
    "import matplotlib.pyplot as plt"
   ]
  },
  {
   "cell_type": "markdown",
   "id": "c3762c5c-6f15-4cf8-8298-149391f0459b",
   "metadata": {},
   "source": [
    "# Часть 1. Обработка файла questions.csv (метаданные для заданных студентам вопросов)"
   ]
  },
  {
   "cell_type": "markdown",
   "id": "fa8ee254-eefd-41f6-bec0-504941d1273f",
   "metadata": {},
   "source": [
    "# 1.1. Структура"
   ]
  },
  {
   "cell_type": "markdown",
   "id": "e22deef0-e593-4c39-a05f-653c317dee94",
   "metadata": {},
   "source": [
    "- question_id: внешний ключ для столбца content_type_id в train.csv, если тип контента - вопрос (0).\n",
    "- bundle_id: идентификатор совместного набора вопросов.\n",
    "- correct_answer: правильный ответ на вопрос. Можно сравнить со столбцом user_answer в train.csv, чтобы проверить, верно ли ответил студент.\n",
    "- part: соответствующий раздел теста TOEIC.\n",
    "- tags: один или несколько подробных тегов для каждого вопроса. Значения тегов не представлены, но их достаточно для кластеризации вопросов."
   ]
  },
  {
   "cell_type": "markdown",
   "id": "48435f59-903b-421a-ae58-89340262d675",
   "metadata": {},
   "source": [
    "# 1.2. Анализ"
   ]
  },
  {
   "cell_type": "code",
   "execution_count": 5,
   "id": "f185a3de-ce12-40b5-8773-15b74059ab0e",
   "metadata": {},
   "outputs": [
    {
     "data": {
      "text/plain": [
       "(13523, 5)"
      ]
     },
     "execution_count": 5,
     "metadata": {},
     "output_type": "execute_result"
    }
   ],
   "source": [
    "questions_df = pd.read_csv('questions.csv') \n",
    "questions_df.shape"
   ]
  },
  {
   "cell_type": "markdown",
   "id": "b268653b-6fe4-436a-91c1-92bcd86a494f",
   "metadata": {},
   "source": [
    "Выведем строки датафрейма questions_df c помощью метода .head"
   ]
  },
  {
   "cell_type": "code",
   "execution_count": 6,
   "id": "bcdfbad4-8452-4d5b-b783-2d763c91bd32",
   "metadata": {},
   "outputs": [
    {
     "data": {
      "text/html": [
       "<div>\n",
       "<style scoped>\n",
       "    .dataframe tbody tr th:only-of-type {\n",
       "        vertical-align: middle;\n",
       "    }\n",
       "\n",
       "    .dataframe tbody tr th {\n",
       "        vertical-align: top;\n",
       "    }\n",
       "\n",
       "    .dataframe thead th {\n",
       "        text-align: right;\n",
       "    }\n",
       "</style>\n",
       "<table border=\"1\" class=\"dataframe\">\n",
       "  <thead>\n",
       "    <tr style=\"text-align: right;\">\n",
       "      <th></th>\n",
       "      <th>question_id</th>\n",
       "      <th>bundle_id</th>\n",
       "      <th>correct_answer</th>\n",
       "      <th>part</th>\n",
       "      <th>tags</th>\n",
       "    </tr>\n",
       "  </thead>\n",
       "  <tbody>\n",
       "    <tr>\n",
       "      <th>0</th>\n",
       "      <td>0</td>\n",
       "      <td>0</td>\n",
       "      <td>0</td>\n",
       "      <td>1</td>\n",
       "      <td>51 131 162 38</td>\n",
       "    </tr>\n",
       "    <tr>\n",
       "      <th>1</th>\n",
       "      <td>1</td>\n",
       "      <td>1</td>\n",
       "      <td>1</td>\n",
       "      <td>1</td>\n",
       "      <td>131 36 81</td>\n",
       "    </tr>\n",
       "    <tr>\n",
       "      <th>2</th>\n",
       "      <td>2</td>\n",
       "      <td>2</td>\n",
       "      <td>0</td>\n",
       "      <td>1</td>\n",
       "      <td>131 101 162 92</td>\n",
       "    </tr>\n",
       "    <tr>\n",
       "      <th>3</th>\n",
       "      <td>3</td>\n",
       "      <td>3</td>\n",
       "      <td>0</td>\n",
       "      <td>1</td>\n",
       "      <td>131 149 162 29</td>\n",
       "    </tr>\n",
       "    <tr>\n",
       "      <th>4</th>\n",
       "      <td>4</td>\n",
       "      <td>4</td>\n",
       "      <td>3</td>\n",
       "      <td>1</td>\n",
       "      <td>131 5 162 38</td>\n",
       "    </tr>\n",
       "  </tbody>\n",
       "</table>\n",
       "</div>"
      ],
      "text/plain": [
       "   question_id  bundle_id  correct_answer  part            tags\n",
       "0            0          0               0     1   51 131 162 38\n",
       "1            1          1               1     1       131 36 81\n",
       "2            2          2               0     1  131 101 162 92\n",
       "3            3          3               0     1  131 149 162 29\n",
       "4            4          4               3     1    131 5 162 38"
      ]
     },
     "execution_count": 6,
     "metadata": {},
     "output_type": "execute_result"
    }
   ],
   "source": [
    "questions_df.head()"
   ]
  },
  {
   "cell_type": "markdown",
   "id": "67c46600-b88c-4b08-813c-c46f09c1e1dc",
   "metadata": {},
   "source": [
    "Выведем статистику по числовым признакам датафрейма questions_df c помощью метода .describe"
   ]
  },
  {
   "cell_type": "code",
   "execution_count": 7,
   "id": "05475955-caa2-472b-a261-5ae8355d0dfa",
   "metadata": {},
   "outputs": [
    {
     "data": {
      "text/html": [
       "<div>\n",
       "<style scoped>\n",
       "    .dataframe tbody tr th:only-of-type {\n",
       "        vertical-align: middle;\n",
       "    }\n",
       "\n",
       "    .dataframe tbody tr th {\n",
       "        vertical-align: top;\n",
       "    }\n",
       "\n",
       "    .dataframe thead th {\n",
       "        text-align: right;\n",
       "    }\n",
       "</style>\n",
       "<table border=\"1\" class=\"dataframe\">\n",
       "  <thead>\n",
       "    <tr style=\"text-align: right;\">\n",
       "      <th></th>\n",
       "      <th>question_id</th>\n",
       "      <th>bundle_id</th>\n",
       "      <th>correct_answer</th>\n",
       "      <th>part</th>\n",
       "    </tr>\n",
       "  </thead>\n",
       "  <tbody>\n",
       "    <tr>\n",
       "      <th>count</th>\n",
       "      <td>13523.00000</td>\n",
       "      <td>13523.000000</td>\n",
       "      <td>13523.000000</td>\n",
       "      <td>13523.000000</td>\n",
       "    </tr>\n",
       "    <tr>\n",
       "      <th>mean</th>\n",
       "      <td>6761.00000</td>\n",
       "      <td>6760.510907</td>\n",
       "      <td>1.455298</td>\n",
       "      <td>4.264956</td>\n",
       "    </tr>\n",
       "    <tr>\n",
       "      <th>std</th>\n",
       "      <td>3903.89818</td>\n",
       "      <td>3903.857783</td>\n",
       "      <td>1.149707</td>\n",
       "      <td>1.652553</td>\n",
       "    </tr>\n",
       "    <tr>\n",
       "      <th>min</th>\n",
       "      <td>0.00000</td>\n",
       "      <td>0.000000</td>\n",
       "      <td>0.000000</td>\n",
       "      <td>1.000000</td>\n",
       "    </tr>\n",
       "    <tr>\n",
       "      <th>25%</th>\n",
       "      <td>3380.50000</td>\n",
       "      <td>3379.500000</td>\n",
       "      <td>0.000000</td>\n",
       "      <td>3.000000</td>\n",
       "    </tr>\n",
       "    <tr>\n",
       "      <th>50%</th>\n",
       "      <td>6761.00000</td>\n",
       "      <td>6761.000000</td>\n",
       "      <td>1.000000</td>\n",
       "      <td>5.000000</td>\n",
       "    </tr>\n",
       "    <tr>\n",
       "      <th>75%</th>\n",
       "      <td>10141.50000</td>\n",
       "      <td>10140.000000</td>\n",
       "      <td>3.000000</td>\n",
       "      <td>5.000000</td>\n",
       "    </tr>\n",
       "    <tr>\n",
       "      <th>max</th>\n",
       "      <td>13522.00000</td>\n",
       "      <td>13522.000000</td>\n",
       "      <td>3.000000</td>\n",
       "      <td>7.000000</td>\n",
       "    </tr>\n",
       "  </tbody>\n",
       "</table>\n",
       "</div>"
      ],
      "text/plain": [
       "       question_id     bundle_id  correct_answer          part\n",
       "count  13523.00000  13523.000000    13523.000000  13523.000000\n",
       "mean    6761.00000   6760.510907        1.455298      4.264956\n",
       "std     3903.89818   3903.857783        1.149707      1.652553\n",
       "min        0.00000      0.000000        0.000000      1.000000\n",
       "25%     3380.50000   3379.500000        0.000000      3.000000\n",
       "50%     6761.00000   6761.000000        1.000000      5.000000\n",
       "75%    10141.50000  10140.000000        3.000000      5.000000\n",
       "max    13522.00000  13522.000000        3.000000      7.000000"
      ]
     },
     "execution_count": 7,
     "metadata": {},
     "output_type": "execute_result"
    }
   ],
   "source": [
    "questions_df.describe()"
   ]
  },
  {
   "cell_type": "markdown",
   "id": "32e9a204-7a4f-463f-8bf9-f095ac37522e",
   "metadata": {},
   "source": [
    "Найдем пропуски в датафрейме questions_df с помощью метода .isna()"
   ]
  },
  {
   "cell_type": "code",
   "execution_count": 8,
   "id": "f6b57ca9-1cc6-49b2-9208-c6df9673b1d1",
   "metadata": {},
   "outputs": [
    {
     "data": {
      "text/plain": [
       "question_id       0\n",
       "bundle_id         0\n",
       "correct_answer    0\n",
       "part              0\n",
       "tags              1\n",
       "dtype: int64"
      ]
     },
     "execution_count": 8,
     "metadata": {},
     "output_type": "execute_result"
    }
   ],
   "source": [
    "questions_df.isna().sum()"
   ]
  },
  {
   "cell_type": "markdown",
   "id": "fc4a2dbf-5b6f-4d4d-b23b-0a8592d39ad5",
   "metadata": {},
   "source": [
    "Как видно, применение метода показало, что имеется один пропуск в столбце тегов."
   ]
  },
  {
   "cell_type": "markdown",
   "id": "23574194-f4f5-472f-8406-f31cbde45276",
   "metadata": {},
   "source": [
    "Выведем информацию о том, где он находится:"
   ]
  },
  {
   "cell_type": "code",
   "execution_count": 9,
   "id": "cf2d1786-f71d-4f64-920b-331cc525e631",
   "metadata": {},
   "outputs": [
    {
     "data": {
      "text/html": [
       "<div>\n",
       "<style scoped>\n",
       "    .dataframe tbody tr th:only-of-type {\n",
       "        vertical-align: middle;\n",
       "    }\n",
       "\n",
       "    .dataframe tbody tr th {\n",
       "        vertical-align: top;\n",
       "    }\n",
       "\n",
       "    .dataframe thead th {\n",
       "        text-align: right;\n",
       "    }\n",
       "</style>\n",
       "<table border=\"1\" class=\"dataframe\">\n",
       "  <thead>\n",
       "    <tr style=\"text-align: right;\">\n",
       "      <th></th>\n",
       "      <th>question_id</th>\n",
       "      <th>bundle_id</th>\n",
       "      <th>correct_answer</th>\n",
       "      <th>part</th>\n",
       "      <th>tags</th>\n",
       "    </tr>\n",
       "  </thead>\n",
       "  <tbody>\n",
       "    <tr>\n",
       "      <th>10033</th>\n",
       "      <td>10033</td>\n",
       "      <td>10033</td>\n",
       "      <td>2</td>\n",
       "      <td>6</td>\n",
       "      <td>NaN</td>\n",
       "    </tr>\n",
       "  </tbody>\n",
       "</table>\n",
       "</div>"
      ],
      "text/plain": [
       "       question_id  bundle_id  correct_answer  part tags\n",
       "10033        10033      10033               2     6  NaN"
      ]
     },
     "execution_count": 9,
     "metadata": {},
     "output_type": "execute_result"
    }
   ],
   "source": [
    "questions_df[questions_df.tags.isna()]"
   ]
  },
  {
   "cell_type": "markdown",
   "id": "701aed1c-985f-46c7-bf65-b18bb3fa297e",
   "metadata": {},
   "source": [
    "Далее перейдем к обнаружению дубликатов в рассматриваемом датафрейме"
   ]
  },
  {
   "cell_type": "code",
   "execution_count": 10,
   "id": "d995388f-c423-41cc-a846-c39bf3517672",
   "metadata": {},
   "outputs": [
    {
     "data": {
      "text/plain": [
       "0"
      ]
     },
     "execution_count": 10,
     "metadata": {},
     "output_type": "execute_result"
    }
   ],
   "source": [
    "questions_df.duplicated().sum() "
   ]
  },
  {
   "cell_type": "markdown",
   "id": "2fc04e0c-158a-482f-af5d-a23e970089eb",
   "metadata": {},
   "source": [
    "Как мы можем увидеть дубликаты в датафрейме questions_df отсутствуют."
   ]
  },
  {
   "cell_type": "markdown",
   "id": "739c25bb-cc35-47e2-bdb8-9eb5c6235128",
   "metadata": {},
   "source": [
    "С помощью метода .info выведем справку о количестве значений в каждом столбце и типе данных рассматриваемого датафрейма"
   ]
  },
  {
   "cell_type": "code",
   "execution_count": 11,
   "id": "dad179e3-21dc-4d59-9a18-0f2c860f28ec",
   "metadata": {},
   "outputs": [
    {
     "name": "stdout",
     "output_type": "stream",
     "text": [
      "<class 'pandas.core.frame.DataFrame'>\n",
      "RangeIndex: 13523 entries, 0 to 13522\n",
      "Data columns (total 5 columns):\n",
      " #   Column          Non-Null Count  Dtype \n",
      "---  ------          --------------  ----- \n",
      " 0   question_id     13523 non-null  int64 \n",
      " 1   bundle_id       13523 non-null  int64 \n",
      " 2   correct_answer  13523 non-null  int64 \n",
      " 3   part            13523 non-null  int64 \n",
      " 4   tags            13522 non-null  object\n",
      "dtypes: int64(4), object(1)\n",
      "memory usage: 528.4+ KB\n"
     ]
    }
   ],
   "source": [
    "questions_df.info()"
   ]
  },
  {
   "cell_type": "markdown",
   "id": "fa879cbf-2179-4f8f-a996-ab5f7c52df5d",
   "metadata": {},
   "source": [
    "Теперь выведем распределение значений внешних ключей, соответствующих каждому значению в столбце разделов"
   ]
  },
  {
   "cell_type": "code",
   "execution_count": 12,
   "id": "ab701b71-799f-4fc6-b352-f3a8466d54ff",
   "metadata": {},
   "outputs": [
    {
     "data": {
      "text/html": [
       "<div>\n",
       "<style scoped>\n",
       "    .dataframe tbody tr th:only-of-type {\n",
       "        vertical-align: middle;\n",
       "    }\n",
       "\n",
       "    .dataframe tbody tr th {\n",
       "        vertical-align: top;\n",
       "    }\n",
       "\n",
       "    .dataframe thead th {\n",
       "        text-align: right;\n",
       "    }\n",
       "</style>\n",
       "<table border=\"1\" class=\"dataframe\">\n",
       "  <thead>\n",
       "    <tr style=\"text-align: right;\">\n",
       "      <th></th>\n",
       "      <th>part</th>\n",
       "      <th>question_id</th>\n",
       "    </tr>\n",
       "  </thead>\n",
       "  <tbody>\n",
       "    <tr>\n",
       "      <th>0</th>\n",
       "      <td>1</td>\n",
       "      <td>992</td>\n",
       "    </tr>\n",
       "    <tr>\n",
       "      <th>1</th>\n",
       "      <td>2</td>\n",
       "      <td>1647</td>\n",
       "    </tr>\n",
       "    <tr>\n",
       "      <th>2</th>\n",
       "      <td>3</td>\n",
       "      <td>1562</td>\n",
       "    </tr>\n",
       "    <tr>\n",
       "      <th>3</th>\n",
       "      <td>4</td>\n",
       "      <td>1439</td>\n",
       "    </tr>\n",
       "    <tr>\n",
       "      <th>4</th>\n",
       "      <td>5</td>\n",
       "      <td>5511</td>\n",
       "    </tr>\n",
       "    <tr>\n",
       "      <th>5</th>\n",
       "      <td>6</td>\n",
       "      <td>1212</td>\n",
       "    </tr>\n",
       "    <tr>\n",
       "      <th>6</th>\n",
       "      <td>7</td>\n",
       "      <td>1160</td>\n",
       "    </tr>\n",
       "  </tbody>\n",
       "</table>\n",
       "</div>"
      ],
      "text/plain": [
       "   part  question_id\n",
       "0     1          992\n",
       "1     2         1647\n",
       "2     3         1562\n",
       "3     4         1439\n",
       "4     5         5511\n",
       "5     6         1212\n",
       "6     7         1160"
      ]
     },
     "execution_count": 12,
     "metadata": {},
     "output_type": "execute_result"
    }
   ],
   "source": [
    "questions_df[['part', 'question_id']].groupby(['part'], as_index = False).count()"
   ]
  },
  {
   "cell_type": "markdown",
   "id": "3703863c-cf8e-47eb-a978-9682d6121cc5",
   "metadata": {},
   "source": [
    "# 1.3. Визуализация"
   ]
  },
  {
   "cell_type": "code",
   "execution_count": 13,
   "id": "6068b983-ebfa-4b2f-bafd-4d112e7a4d67",
   "metadata": {},
   "outputs": [
    {
     "data": {
      "text/plain": [
       "<AxesSubplot:xlabel='part', ylabel='Count'>"
      ]
     },
     "execution_count": 13,
     "metadata": {},
     "output_type": "execute_result"
    },
    {
     "data": {
      "image/png": "[encoded data removed]",
      "text/plain": [
       "<Figure size 640x480 with 1 Axes>"
      ]
     },
     "metadata": {},
     "output_type": "display_data"
    }
   ],
   "source": [
    "sns.histplot(data = questions_df, x = 'part', bins = 7)"
   ]
  },
  {
   "cell_type": "markdown",
   "id": "62d5ad34-c68c-49e7-8ab5-6a51b1760858",
   "metadata": {},
   "source": [
    "# 1.4. Промежуточные итоги"
   ]
  },
  {
   "cell_type": "markdown",
   "id": "8fb253c6-c889-4815-8375-cea7ad87b62c",
   "metadata": {},
   "source": [
    "По результатам анализа следует, что внешние ключи по всем разделам распределены практически без отклонений (кроме пятого).\n"
   ]
  },
  {
   "cell_type": "markdown",
   "id": "a17f6592-c85f-437c-8baf-38249da0ff33",
   "metadata": {},
   "source": [
    "# Часть 2. Обработка файла lectures.csv (метаданные для лекций, просмотренных пользователями (студентами) по мере их обучения)"
   ]
  },
  {
   "cell_type": "markdown",
   "id": "fa1c1011-647c-43c3-9db4-509b4cbe1776",
   "metadata": {},
   "source": [
    "# 2. 1. Структура "
   ]
  },
  {
   "cell_type": "markdown",
   "id": "7514565b-a45c-4367-b81f-b3306ab4b7c6",
   "metadata": {},
   "source": [
    "- lecture_id: внешний ключ для столбца content_type_id в train.csv, если тип контента - лекция (1).\n",
    "- part: раздел, к которому относится лекция.\n",
    "- tag: один тег для каждой лекции. Значения тегов не представлены, но их достаточно для кластеризации лекций.\n",
    "- type_of: краткое описание основной цели лекции."
   ]
  },
  {
   "cell_type": "markdown",
   "id": "d944d79f-7f54-4ac2-9615-df70da34a3f3",
   "metadata": {},
   "source": [
    "# 2. 2. Анализ "
   ]
  },
  {
   "cell_type": "code",
   "execution_count": 14,
   "id": "dc3b47f9-40b4-454b-81ed-c93d68c5903f",
   "metadata": {},
   "outputs": [
    {
     "data": {
      "text/plain": [
       "(418, 4)"
      ]
     },
     "execution_count": 14,
     "metadata": {},
     "output_type": "execute_result"
    }
   ],
   "source": [
    "lectures_df = pd.read_csv('lectures.csv', encoding = 'utf-8')\n",
    "lectures_df.shape"
   ]
  },
  {
   "cell_type": "markdown",
   "id": "4f62676c-c516-4b67-be49-92f32b446787",
   "metadata": {},
   "source": [
    "Выведем строки датафрейма lectures_df c помощью метода .head"
   ]
  },
  {
   "cell_type": "code",
   "execution_count": 15,
   "id": "8e6f96da-adca-4e87-95ec-160bbe1c87ab",
   "metadata": {},
   "outputs": [
    {
     "data": {
      "text/html": [
       "<div>\n",
       "<style scoped>\n",
       "    .dataframe tbody tr th:only-of-type {\n",
       "        vertical-align: middle;\n",
       "    }\n",
       "\n",
       "    .dataframe tbody tr th {\n",
       "        vertical-align: top;\n",
       "    }\n",
       "\n",
       "    .dataframe thead th {\n",
       "        text-align: right;\n",
       "    }\n",
       "</style>\n",
       "<table border=\"1\" class=\"dataframe\">\n",
       "  <thead>\n",
       "    <tr style=\"text-align: right;\">\n",
       "      <th></th>\n",
       "      <th>lecture_id</th>\n",
       "      <th>tag</th>\n",
       "      <th>part</th>\n",
       "      <th>type_of</th>\n",
       "    </tr>\n",
       "  </thead>\n",
       "  <tbody>\n",
       "    <tr>\n",
       "      <th>0</th>\n",
       "      <td>89</td>\n",
       "      <td>159</td>\n",
       "      <td>5</td>\n",
       "      <td>concept</td>\n",
       "    </tr>\n",
       "    <tr>\n",
       "      <th>1</th>\n",
       "      <td>100</td>\n",
       "      <td>70</td>\n",
       "      <td>1</td>\n",
       "      <td>concept</td>\n",
       "    </tr>\n",
       "    <tr>\n",
       "      <th>2</th>\n",
       "      <td>185</td>\n",
       "      <td>45</td>\n",
       "      <td>6</td>\n",
       "      <td>concept</td>\n",
       "    </tr>\n",
       "    <tr>\n",
       "      <th>3</th>\n",
       "      <td>192</td>\n",
       "      <td>79</td>\n",
       "      <td>5</td>\n",
       "      <td>solving question</td>\n",
       "    </tr>\n",
       "    <tr>\n",
       "      <th>4</th>\n",
       "      <td>317</td>\n",
       "      <td>156</td>\n",
       "      <td>5</td>\n",
       "      <td>solving question</td>\n",
       "    </tr>\n",
       "  </tbody>\n",
       "</table>\n",
       "</div>"
      ],
      "text/plain": [
       "   lecture_id  tag  part           type_of\n",
       "0          89  159     5           concept\n",
       "1         100   70     1           concept\n",
       "2         185   45     6           concept\n",
       "3         192   79     5  solving question\n",
       "4         317  156     5  solving question"
      ]
     },
     "execution_count": 15,
     "metadata": {},
     "output_type": "execute_result"
    }
   ],
   "source": [
    "lectures_df.head()"
   ]
  },
  {
   "cell_type": "markdown",
   "id": "212318e0-d8c0-4f8c-9e29-f78f119f9069",
   "metadata": {},
   "source": [
    "Выводим статистику по числовым признакам датафрейма lectures_df c помощью метода .describe"
   ]
  },
  {
   "cell_type": "code",
   "execution_count": 16,
   "id": "5703f1cf-2f28-4605-a110-b98695e43234",
   "metadata": {},
   "outputs": [
    {
     "data": {
      "text/html": [
       "<div>\n",
       "<style scoped>\n",
       "    .dataframe tbody tr th:only-of-type {\n",
       "        vertical-align: middle;\n",
       "    }\n",
       "\n",
       "    .dataframe tbody tr th {\n",
       "        vertical-align: top;\n",
       "    }\n",
       "\n",
       "    .dataframe thead th {\n",
       "        text-align: right;\n",
       "    }\n",
       "</style>\n",
       "<table border=\"1\" class=\"dataframe\">\n",
       "  <thead>\n",
       "    <tr style=\"text-align: right;\">\n",
       "      <th></th>\n",
       "      <th>lecture_id</th>\n",
       "      <th>tag</th>\n",
       "      <th>part</th>\n",
       "    </tr>\n",
       "  </thead>\n",
       "  <tbody>\n",
       "    <tr>\n",
       "      <th>count</th>\n",
       "      <td>418.000000</td>\n",
       "      <td>418.000000</td>\n",
       "      <td>418.000000</td>\n",
       "    </tr>\n",
       "    <tr>\n",
       "      <th>mean</th>\n",
       "      <td>16983.401914</td>\n",
       "      <td>94.480861</td>\n",
       "      <td>4.267943</td>\n",
       "    </tr>\n",
       "    <tr>\n",
       "      <th>std</th>\n",
       "      <td>9426.164660</td>\n",
       "      <td>53.586487</td>\n",
       "      <td>1.872424</td>\n",
       "    </tr>\n",
       "    <tr>\n",
       "      <th>min</th>\n",
       "      <td>89.000000</td>\n",
       "      <td>0.000000</td>\n",
       "      <td>1.000000</td>\n",
       "    </tr>\n",
       "    <tr>\n",
       "      <th>25%</th>\n",
       "      <td>9026.250000</td>\n",
       "      <td>50.250000</td>\n",
       "      <td>2.000000</td>\n",
       "    </tr>\n",
       "    <tr>\n",
       "      <th>50%</th>\n",
       "      <td>17161.500000</td>\n",
       "      <td>94.500000</td>\n",
       "      <td>5.000000</td>\n",
       "    </tr>\n",
       "    <tr>\n",
       "      <th>75%</th>\n",
       "      <td>24906.250000</td>\n",
       "      <td>140.000000</td>\n",
       "      <td>6.000000</td>\n",
       "    </tr>\n",
       "    <tr>\n",
       "      <th>max</th>\n",
       "      <td>32736.000000</td>\n",
       "      <td>187.000000</td>\n",
       "      <td>7.000000</td>\n",
       "    </tr>\n",
       "  </tbody>\n",
       "</table>\n",
       "</div>"
      ],
      "text/plain": [
       "         lecture_id         tag        part\n",
       "count    418.000000  418.000000  418.000000\n",
       "mean   16983.401914   94.480861    4.267943\n",
       "std     9426.164660   53.586487    1.872424\n",
       "min       89.000000    0.000000    1.000000\n",
       "25%     9026.250000   50.250000    2.000000\n",
       "50%    17161.500000   94.500000    5.000000\n",
       "75%    24906.250000  140.000000    6.000000\n",
       "max    32736.000000  187.000000    7.000000"
      ]
     },
     "execution_count": 16,
     "metadata": {},
     "output_type": "execute_result"
    }
   ],
   "source": [
    "lectures_df.describe()"
   ]
  },
  {
   "cell_type": "markdown",
   "id": "60293746-142c-4062-ae57-0c37d064d96a",
   "metadata": {},
   "source": [
    "Ищем пропуски в датафрейме df_lectures с помощью метода .isna()"
   ]
  },
  {
   "cell_type": "code",
   "execution_count": 17,
   "id": "2767dbd7-3bde-426e-98f5-35c440120fae",
   "metadata": {},
   "outputs": [
    {
     "data": {
      "text/plain": [
       "lecture_id    0\n",
       "tag           0\n",
       "part          0\n",
       "type_of       0\n",
       "dtype: int64"
      ]
     },
     "execution_count": 17,
     "metadata": {},
     "output_type": "execute_result"
    }
   ],
   "source": [
    "lectures_df.isna().sum() "
   ]
  },
  {
   "cell_type": "markdown",
   "id": "3573231a-6693-4a86-a603-6c410711037b",
   "metadata": {},
   "source": [
    "Как мы можем увидеть пропуски в датафрейме df_lectures отсутствуют."
   ]
  },
  {
   "cell_type": "markdown",
   "id": "7e98b7bb-9b65-4f52-af59-e374050a7d9f",
   "metadata": {},
   "source": [
    "Далее перейдем к обнаружению дубликатов в рассматриваемом датафрейме"
   ]
  },
  {
   "cell_type": "code",
   "execution_count": 18,
   "id": "ac3109ae-bdea-43e0-93b5-cdaf9fe9f0c4",
   "metadata": {},
   "outputs": [
    {
     "data": {
      "text/plain": [
       "0"
      ]
     },
     "execution_count": 18,
     "metadata": {},
     "output_type": "execute_result"
    }
   ],
   "source": [
    "lectures_df.duplicated().sum()"
   ]
  },
  {
   "cell_type": "markdown",
   "id": "3b6ce1f2-753e-4ad3-9cf3-dff612201053",
   "metadata": {},
   "source": [
    "Как мы можем увидеть дубликаты в датафрейме df_lectures также отсутствуют."
   ]
  },
  {
   "cell_type": "markdown",
   "id": "d30c494d-1848-48e3-8826-ae2636372f07",
   "metadata": {},
   "source": [
    "С помощью метода .info выведем справку о количестве значений в каждом столбце и типе данных рассматриваемого датафрейма"
   ]
  },
  {
   "cell_type": "code",
   "execution_count": 19,
   "id": "81e3e3a6-a2a1-45f8-b19d-19000c4381a5",
   "metadata": {},
   "outputs": [
    {
     "name": "stdout",
     "output_type": "stream",
     "text": [
      "<class 'pandas.core.frame.DataFrame'>\n",
      "RangeIndex: 418 entries, 0 to 417\n",
      "Data columns (total 4 columns):\n",
      " #   Column      Non-Null Count  Dtype \n",
      "---  ------      --------------  ----- \n",
      " 0   lecture_id  418 non-null    int64 \n",
      " 1   tag         418 non-null    int64 \n",
      " 2   part        418 non-null    int64 \n",
      " 3   type_of     418 non-null    object\n",
      "dtypes: int64(3), object(1)\n",
      "memory usage: 13.2+ KB\n"
     ]
    }
   ],
   "source": [
    "lectures_df.info()"
   ]
  },
  {
   "cell_type": "markdown",
   "id": "55a3a44a-55ed-4d1b-b180-4279fd13a2eb",
   "metadata": {},
   "source": [
    "Теперь выведем распределение внешних ключей по различным разделам лекционного материала:"
   ]
  },
  {
   "cell_type": "code",
   "execution_count": 20,
   "id": "7c25e417-6cca-4fb0-aa76-bda96688d29d",
   "metadata": {},
   "outputs": [
    {
     "data": {
      "text/html": [
       "<div>\n",
       "<style scoped>\n",
       "    .dataframe tbody tr th:only-of-type {\n",
       "        vertical-align: middle;\n",
       "    }\n",
       "\n",
       "    .dataframe tbody tr th {\n",
       "        vertical-align: top;\n",
       "    }\n",
       "\n",
       "    .dataframe thead th {\n",
       "        text-align: right;\n",
       "    }\n",
       "</style>\n",
       "<table border=\"1\" class=\"dataframe\">\n",
       "  <thead>\n",
       "    <tr style=\"text-align: right;\">\n",
       "      <th></th>\n",
       "      <th>type_of</th>\n",
       "      <th>part</th>\n",
       "      <th>lecture_id</th>\n",
       "    </tr>\n",
       "  </thead>\n",
       "  <tbody>\n",
       "    <tr>\n",
       "      <th>0</th>\n",
       "      <td>concept</td>\n",
       "      <td>1</td>\n",
       "      <td>20</td>\n",
       "    </tr>\n",
       "    <tr>\n",
       "      <th>1</th>\n",
       "      <td>concept</td>\n",
       "      <td>2</td>\n",
       "      <td>18</td>\n",
       "    </tr>\n",
       "    <tr>\n",
       "      <th>2</th>\n",
       "      <td>concept</td>\n",
       "      <td>3</td>\n",
       "      <td>7</td>\n",
       "    </tr>\n",
       "    <tr>\n",
       "      <th>3</th>\n",
       "      <td>concept</td>\n",
       "      <td>4</td>\n",
       "      <td>19</td>\n",
       "    </tr>\n",
       "    <tr>\n",
       "      <th>4</th>\n",
       "      <td>concept</td>\n",
       "      <td>5</td>\n",
       "      <td>72</td>\n",
       "    </tr>\n",
       "    <tr>\n",
       "      <th>5</th>\n",
       "      <td>concept</td>\n",
       "      <td>6</td>\n",
       "      <td>63</td>\n",
       "    </tr>\n",
       "    <tr>\n",
       "      <th>6</th>\n",
       "      <td>concept</td>\n",
       "      <td>7</td>\n",
       "      <td>23</td>\n",
       "    </tr>\n",
       "    <tr>\n",
       "      <th>7</th>\n",
       "      <td>intention</td>\n",
       "      <td>2</td>\n",
       "      <td>7</td>\n",
       "    </tr>\n",
       "    <tr>\n",
       "      <th>8</th>\n",
       "      <td>solving question</td>\n",
       "      <td>1</td>\n",
       "      <td>34</td>\n",
       "    </tr>\n",
       "    <tr>\n",
       "      <th>9</th>\n",
       "      <td>solving question</td>\n",
       "      <td>2</td>\n",
       "      <td>31</td>\n",
       "    </tr>\n",
       "    <tr>\n",
       "      <th>10</th>\n",
       "      <td>solving question</td>\n",
       "      <td>3</td>\n",
       "      <td>12</td>\n",
       "    </tr>\n",
       "    <tr>\n",
       "      <th>11</th>\n",
       "      <td>solving question</td>\n",
       "      <td>4</td>\n",
       "      <td>12</td>\n",
       "    </tr>\n",
       "    <tr>\n",
       "      <th>12</th>\n",
       "      <td>solving question</td>\n",
       "      <td>5</td>\n",
       "      <td>69</td>\n",
       "    </tr>\n",
       "    <tr>\n",
       "      <th>13</th>\n",
       "      <td>solving question</td>\n",
       "      <td>6</td>\n",
       "      <td>19</td>\n",
       "    </tr>\n",
       "    <tr>\n",
       "      <th>14</th>\n",
       "      <td>solving question</td>\n",
       "      <td>7</td>\n",
       "      <td>9</td>\n",
       "    </tr>\n",
       "    <tr>\n",
       "      <th>15</th>\n",
       "      <td>starter</td>\n",
       "      <td>5</td>\n",
       "      <td>2</td>\n",
       "    </tr>\n",
       "    <tr>\n",
       "      <th>16</th>\n",
       "      <td>starter</td>\n",
       "      <td>6</td>\n",
       "      <td>1</td>\n",
       "    </tr>\n",
       "  </tbody>\n",
       "</table>\n",
       "</div>"
      ],
      "text/plain": [
       "             type_of  part  lecture_id\n",
       "0            concept     1          20\n",
       "1            concept     2          18\n",
       "2            concept     3           7\n",
       "3            concept     4          19\n",
       "4            concept     5          72\n",
       "5            concept     6          63\n",
       "6            concept     7          23\n",
       "7          intention     2           7\n",
       "8   solving question     1          34\n",
       "9   solving question     2          31\n",
       "10  solving question     3          12\n",
       "11  solving question     4          12\n",
       "12  solving question     5          69\n",
       "13  solving question     6          19\n",
       "14  solving question     7           9\n",
       "15           starter     5           2\n",
       "16           starter     6           1"
      ]
     },
     "execution_count": 20,
     "metadata": {},
     "output_type": "execute_result"
    }
   ],
   "source": [
    "lectures_df[['type_of', 'part', 'lecture_id']].groupby(['type_of','part'], as_index = False).count().sort_values(by = ['type_of', 'part'])\n"
   ]
  },
  {
   "cell_type": "code",
   "execution_count": 21,
   "id": "16aceba9-33b5-48fe-93f2-7287f4eae30d",
   "metadata": {},
   "outputs": [],
   "source": [
    "# 2.3. Визуализация"
   ]
  },
  {
   "cell_type": "markdown",
   "id": "f3e6c8fd-3f2d-43e2-a6cc-646e5cf4640f",
   "metadata": {},
   "source": [
    "Выведем распределение тегов и разделов"
   ]
  },
  {
   "cell_type": "code",
   "execution_count": 22,
   "id": "d6b3cdd3-69aa-495a-be47-6475faeae5e0",
   "metadata": {},
   "outputs": [
    {
     "data": {
      "text/plain": [
       "<AxesSubplot:xlabel='part', ylabel='tag'>"
      ]
     },
     "execution_count": 22,
     "metadata": {},
     "output_type": "execute_result"
    },
    {
     "data": {
      "image/png": "[encoded data removed]",
      "text/plain": [
       "<Figure size 640x480 with 1 Axes>"
      ]
     },
     "metadata": {},
     "output_type": "display_data"
    }
   ],
   "source": [
    "sns.scatterplot(data = lectures_df, x = 'part', y = 'tag', hue = 'type_of')\n"
   ]
  },
  {
   "cell_type": "code",
   "execution_count": 23,
   "id": "3729b045-4d0c-49f9-b5a3-ae4c5cf07273",
   "metadata": {},
   "outputs": [
    {
     "data": {
      "text/plain": [
       "<AxesSubplot:xlabel='tag', ylabel='Count'>"
      ]
     },
     "execution_count": 23,
     "metadata": {},
     "output_type": "execute_result"
    },
    {
     "data": {
      "image/png": "[encoded data removed]",
      "text/plain": [
       "<Figure size 640x480 with 1 Axes>"
      ]
     },
     "metadata": {},
     "output_type": "display_data"
    }
   ],
   "source": [
    "sns.histplot(data = lectures_df, x = 'tag', hue = 'type_of')"
   ]
  },
  {
   "cell_type": "markdown",
   "id": "2bf7a444-cbdc-4350-8b07-b2b9badc8cd7",
   "metadata": {},
   "source": [
    "Из графиков можно сделать вывод, что явной связи тегов и описаний лекций нет"
   ]
  },
  {
   "cell_type": "markdown",
   "id": "be933ed8-bf4a-43d3-8985-ef1df8b0e4d7",
   "metadata": {},
   "source": [
    "Наконец проанализируем связь разделов и описаний лекций\n"
   ]
  },
  {
   "cell_type": "code",
   "execution_count": 24,
   "id": "4e19db66-844d-4b91-ad1d-83208e7ee4f7",
   "metadata": {},
   "outputs": [
    {
     "data": {
      "text/plain": [
       "<AxesSubplot:xlabel='part', ylabel='Count'>"
      ]
     },
     "execution_count": 24,
     "metadata": {},
     "output_type": "execute_result"
    },
    {
     "data": {
      "image/png": "[encoded data removed]",
      "text/plain": [
       "<Figure size 640x480 with 1 Axes>"
      ]
     },
     "metadata": {},
     "output_type": "display_data"
    }
   ],
   "source": [
    "sns.histplot(data = lectures_df, x = 'part', hue = 'type_of', bins = 7)"
   ]
  },
  {
   "cell_type": "markdown",
   "id": "1d72324a-f8e2-49a2-8ba8-d0cae3f72914",
   "metadata": {},
   "source": [
    "# 2.4. Промежуточные выводы"
   ]
  },
  {
   "cell_type": "markdown",
   "id": "db221ea9-ded8-45eb-8a32-b958e23840aa",
   "metadata": {},
   "source": [
    "По результатам аналза следует, что в первых трех разделах больше практики, в остальных - теориию."
   ]
  },
  {
   "cell_type": "markdown",
   "id": "092026c8-eb48-4317-a4e2-07913d542401",
   "metadata": {},
   "source": [
    "# Часть 3. Обработка файла train.csv (метаданные ответов на заданные студентам вопросы)"
   ]
  },
  {
   "cell_type": "markdown",
   "id": "b974d4dd-018a-48cc-a602-e2003408aa2b",
   "metadata": {},
   "source": [
    "# 3. 1. Структура "
   ]
  },
  {
   "cell_type": "markdown",
   "id": "5d03e4f1-b274-4196-ab3b-bfa2b8b0fe15",
   "metadata": {},
   "source": [
    "- row_id: (int64) идентификатор строки.\n",
    "- timestamp: (int64) время в миллисекундах между этим взаимодействием со студентом и завершением первого события от данного студента.\n",
    "- user_id: (int32) идентификатор студента.\n",
    "- content_id: (int16) идентификатор взаимодействия со студентом.\n",
    "- content_type_id: (int8) идентификатор типа контента. 0, если контентом был заданный студенту вопрос, 1 - просмотр студентом лекции.\n",
    "- task_container_id: (int16) идентификатор набора вопросов или лекций. Например, студент может увидеть три вопроса подряд, прежде чем увидит пояснения к какому-либо из них. Все три вопроса будут иметь общий идентификатор набора.\n",
    "- user_answer: (int8) ответ студента на вопрос, если они есть. Для лекций считать -1 как null.\n",
    "- answered_correctly: (int8) был ли ответ студента на вопрос правильным. Для лекций считать -1 как null.\n",
    "- prior_question_elapsed_time: (float32) среднее время в миллисекундах, затрачиваемое студентом для ответа на каждый вопрос из предыдущего набора вопросов, без учёта промежуточных лекций. Имеет значение null для 1-го набора вопросов или лекции.\n",
    "- prior_question_had_explanation: (bool) увидел ли студент объяснение и правильный ответ после ответа на предыдущий набор вопросов, без учёта промежуточных лекций. Это значение является общим для одного набора вопросов и имеет значение null для 1-го набора вопросов или лекции. Как правило, первые несколько вопросов, увиденные студентом, были частью вводного диагностического теста и не получили никакой обратной связи."
   ]
  },
  {
   "cell_type": "markdown",
   "id": "78e6efe9-03fe-4553-aded-13d7a9bdc082",
   "metadata": {},
   "source": [
    "# 3. 2. Анализ"
   ]
  },
  {
   "cell_type": "markdown",
   "id": "1e21553d-bdfa-4e06-8d9b-6ea074aa919b",
   "metadata": {},
   "source": [
    "# 3.2.1 Общеинформационный анализ"
   ]
  },
  {
   "cell_type": "code",
   "execution_count": 25,
   "id": "289793e9-f470-4af4-be62-3ac46f678222",
   "metadata": {},
   "outputs": [
    {
     "data": {
      "text/plain": [
       "(101230332, 10)"
      ]
     },
     "execution_count": 25,
     "metadata": {},
     "output_type": "execute_result"
    }
   ],
   "source": [
    "df = pd.read_csv('train.csv', encoding = 'utf-8')\n",
    "df.shape"
   ]
  },
  {
   "cell_type": "markdown",
   "id": "c4219ae2-2bf1-4dae-8497-5e8ab91dd506",
   "metadata": {},
   "source": [
    "Выведем строки датафрейма df c помощью метода .head"
   ]
  },
  {
   "cell_type": "code",
   "execution_count": 26,
   "id": "67cd00b3-10ee-4f6b-8c33-2278f495c015",
   "metadata": {},
   "outputs": [
    {
     "data": {
      "text/html": [
       "<div>\n",
       "<style scoped>\n",
       "    .dataframe tbody tr th:only-of-type {\n",
       "        vertical-align: middle;\n",
       "    }\n",
       "\n",
       "    .dataframe tbody tr th {\n",
       "        vertical-align: top;\n",
       "    }\n",
       "\n",
       "    .dataframe thead th {\n",
       "        text-align: right;\n",
       "    }\n",
       "</style>\n",
       "<table border=\"1\" class=\"dataframe\">\n",
       "  <thead>\n",
       "    <tr style=\"text-align: right;\">\n",
       "      <th></th>\n",
       "      <th>row_id</th>\n",
       "      <th>timestamp</th>\n",
       "      <th>user_id</th>\n",
       "      <th>content_id</th>\n",
       "      <th>content_type_id</th>\n",
       "      <th>task_container_id</th>\n",
       "      <th>user_answer</th>\n",
       "      <th>answered_correctly</th>\n",
       "      <th>prior_question_elapsed_time</th>\n",
       "      <th>prior_question_had_explanation</th>\n",
       "    </tr>\n",
       "  </thead>\n",
       "  <tbody>\n",
       "    <tr>\n",
       "      <th>0</th>\n",
       "      <td>0</td>\n",
       "      <td>0</td>\n",
       "      <td>115</td>\n",
       "      <td>5692</td>\n",
       "      <td>0</td>\n",
       "      <td>1</td>\n",
       "      <td>3</td>\n",
       "      <td>1</td>\n",
       "      <td>NaN</td>\n",
       "      <td>NaN</td>\n",
       "    </tr>\n",
       "    <tr>\n",
       "      <th>1</th>\n",
       "      <td>1</td>\n",
       "      <td>56943</td>\n",
       "      <td>115</td>\n",
       "      <td>5716</td>\n",
       "      <td>0</td>\n",
       "      <td>2</td>\n",
       "      <td>2</td>\n",
       "      <td>1</td>\n",
       "      <td>37000.0</td>\n",
       "      <td>False</td>\n",
       "    </tr>\n",
       "    <tr>\n",
       "      <th>2</th>\n",
       "      <td>2</td>\n",
       "      <td>118363</td>\n",
       "      <td>115</td>\n",
       "      <td>128</td>\n",
       "      <td>0</td>\n",
       "      <td>0</td>\n",
       "      <td>0</td>\n",
       "      <td>1</td>\n",
       "      <td>55000.0</td>\n",
       "      <td>False</td>\n",
       "    </tr>\n",
       "    <tr>\n",
       "      <th>3</th>\n",
       "      <td>3</td>\n",
       "      <td>131167</td>\n",
       "      <td>115</td>\n",
       "      <td>7860</td>\n",
       "      <td>0</td>\n",
       "      <td>3</td>\n",
       "      <td>0</td>\n",
       "      <td>1</td>\n",
       "      <td>19000.0</td>\n",
       "      <td>False</td>\n",
       "    </tr>\n",
       "    <tr>\n",
       "      <th>4</th>\n",
       "      <td>4</td>\n",
       "      <td>137965</td>\n",
       "      <td>115</td>\n",
       "      <td>7922</td>\n",
       "      <td>0</td>\n",
       "      <td>4</td>\n",
       "      <td>1</td>\n",
       "      <td>1</td>\n",
       "      <td>11000.0</td>\n",
       "      <td>False</td>\n",
       "    </tr>\n",
       "  </tbody>\n",
       "</table>\n",
       "</div>"
      ],
      "text/plain": [
       "   row_id  timestamp  user_id  content_id  content_type_id  task_container_id  \\\n",
       "0       0          0      115        5692                0                  1   \n",
       "1       1      56943      115        5716                0                  2   \n",
       "2       2     118363      115         128                0                  0   \n",
       "3       3     131167      115        7860                0                  3   \n",
       "4       4     137965      115        7922                0                  4   \n",
       "\n",
       "   user_answer  answered_correctly  prior_question_elapsed_time  \\\n",
       "0            3                   1                          NaN   \n",
       "1            2                   1                      37000.0   \n",
       "2            0                   1                      55000.0   \n",
       "3            0                   1                      19000.0   \n",
       "4            1                   1                      11000.0   \n",
       "\n",
       "  prior_question_had_explanation  \n",
       "0                            NaN  \n",
       "1                          False  \n",
       "2                          False  \n",
       "3                          False  \n",
       "4                          False  "
      ]
     },
     "execution_count": 26,
     "metadata": {},
     "output_type": "execute_result"
    }
   ],
   "source": [
    "df.head()"
   ]
  },
  {
   "cell_type": "markdown",
   "id": "d11250ca-fdd7-4108-8d54-dc7a1dd3d801",
   "metadata": {},
   "source": [
    "Произведем анализ датафрема df на наличие категориальных и числовых столбцов:"
   ]
  },
  {
   "cell_type": "code",
   "execution_count": 27,
   "id": "8d4f8cbd-8897-4f9c-b18f-769a5cfc5e01",
   "metadata": {},
   "outputs": [
    {
     "name": "stdout",
     "output_type": "stream",
     "text": [
      "Категориальные данные:\t  ['prior_question_had_explanation'] \n",
      " Число столбцов = 1\n",
      "Числовые данные:\t  ['row_id', 'timestamp', 'user_id', 'content_id', 'content_type_id', 'task_container_id', 'user_answer', 'answered_correctly', 'prior_question_elapsed_time'] \n",
      " Число столбцов = 9\n"
     ]
    }
   ],
   "source": [
    "cat_col = []\n",
    "num_col = []\n",
    "\n",
    "for column_name in df.columns:\n",
    "    if (df[column_name].dtypes == object):\n",
    "        cat_col += [column_name]\n",
    "    else:\n",
    "        num_col += [column_name]\n",
    "\n",
    "print('Категориальные данные:\\t ',cat_col, '\\n Число столбцов =', len(cat_col))\n",
    "print('Числовые данные:\\t ', num_col, '\\n Число столбцов =', len(num_col))"
   ]
  },
  {
   "cell_type": "markdown",
   "id": "6ed49fe0-2cbf-497e-a1c4-ab7565a7f7dc",
   "metadata": {},
   "source": [
    "Выводим статистику по числовым признакам датафрейма df c помощью метода .describe"
   ]
  },
  {
   "cell_type": "code",
   "execution_count": 28,
   "id": "02f7d68c-b41b-4547-9118-6e0c2788417b",
   "metadata": {},
   "outputs": [
    {
     "data": {
      "text/html": [
       "<div>\n",
       "<style scoped>\n",
       "    .dataframe tbody tr th:only-of-type {\n",
       "        vertical-align: middle;\n",
       "    }\n",
       "\n",
       "    .dataframe tbody tr th {\n",
       "        vertical-align: top;\n",
       "    }\n",
       "\n",
       "    .dataframe thead th {\n",
       "        text-align: right;\n",
       "    }\n",
       "</style>\n",
       "<table border=\"1\" class=\"dataframe\">\n",
       "  <thead>\n",
       "    <tr style=\"text-align: right;\">\n",
       "      <th></th>\n",
       "      <th>row_id</th>\n",
       "      <th>timestamp</th>\n",
       "      <th>user_id</th>\n",
       "      <th>content_id</th>\n",
       "      <th>content_type_id</th>\n",
       "      <th>task_container_id</th>\n",
       "      <th>user_answer</th>\n",
       "      <th>answered_correctly</th>\n",
       "      <th>prior_question_elapsed_time</th>\n",
       "    </tr>\n",
       "  </thead>\n",
       "  <tbody>\n",
       "    <tr>\n",
       "      <th>count</th>\n",
       "      <td>1.012303e+08</td>\n",
       "      <td>1.012303e+08</td>\n",
       "      <td>1.012303e+08</td>\n",
       "      <td>1.012303e+08</td>\n",
       "      <td>1.012303e+08</td>\n",
       "      <td>1.012303e+08</td>\n",
       "      <td>1.012303e+08</td>\n",
       "      <td>1.012303e+08</td>\n",
       "      <td>9.887879e+07</td>\n",
       "    </tr>\n",
       "    <tr>\n",
       "      <th>mean</th>\n",
       "      <td>5.061517e+07</td>\n",
       "      <td>7.703644e+09</td>\n",
       "      <td>1.076732e+09</td>\n",
       "      <td>5.219605e+03</td>\n",
       "      <td>1.935222e-02</td>\n",
       "      <td>9.040624e+02</td>\n",
       "      <td>1.376123e+00</td>\n",
       "      <td>6.251644e-01</td>\n",
       "      <td>2.542381e+04</td>\n",
       "    </tr>\n",
       "    <tr>\n",
       "      <th>std</th>\n",
       "      <td>2.922268e+07</td>\n",
       "      <td>1.159266e+10</td>\n",
       "      <td>6.197163e+08</td>\n",
       "      <td>3.866359e+03</td>\n",
       "      <td>1.377596e-01</td>\n",
       "      <td>1.358302e+03</td>\n",
       "      <td>1.192896e+00</td>\n",
       "      <td>5.225307e-01</td>\n",
       "      <td>1.994815e+04</td>\n",
       "    </tr>\n",
       "    <tr>\n",
       "      <th>min</th>\n",
       "      <td>0.000000e+00</td>\n",
       "      <td>0.000000e+00</td>\n",
       "      <td>1.150000e+02</td>\n",
       "      <td>0.000000e+00</td>\n",
       "      <td>0.000000e+00</td>\n",
       "      <td>0.000000e+00</td>\n",
       "      <td>-1.000000e+00</td>\n",
       "      <td>-1.000000e+00</td>\n",
       "      <td>0.000000e+00</td>\n",
       "    </tr>\n",
       "    <tr>\n",
       "      <th>25%</th>\n",
       "      <td>2.530758e+07</td>\n",
       "      <td>5.243436e+08</td>\n",
       "      <td>5.408116e+08</td>\n",
       "      <td>2.063000e+03</td>\n",
       "      <td>0.000000e+00</td>\n",
       "      <td>1.040000e+02</td>\n",
       "      <td>0.000000e+00</td>\n",
       "      <td>0.000000e+00</td>\n",
       "      <td>1.600000e+04</td>\n",
       "    </tr>\n",
       "    <tr>\n",
       "      <th>50%</th>\n",
       "      <td>5.061517e+07</td>\n",
       "      <td>2.674234e+09</td>\n",
       "      <td>1.071781e+09</td>\n",
       "      <td>5.026000e+03</td>\n",
       "      <td>0.000000e+00</td>\n",
       "      <td>3.820000e+02</td>\n",
       "      <td>1.000000e+00</td>\n",
       "      <td>1.000000e+00</td>\n",
       "      <td>2.100000e+04</td>\n",
       "    </tr>\n",
       "    <tr>\n",
       "      <th>75%</th>\n",
       "      <td>7.592275e+07</td>\n",
       "      <td>9.924551e+09</td>\n",
       "      <td>1.615742e+09</td>\n",
       "      <td>7.425000e+03</td>\n",
       "      <td>0.000000e+00</td>\n",
       "      <td>1.094000e+03</td>\n",
       "      <td>3.000000e+00</td>\n",
       "      <td>1.000000e+00</td>\n",
       "      <td>2.966600e+04</td>\n",
       "    </tr>\n",
       "    <tr>\n",
       "      <th>max</th>\n",
       "      <td>1.012303e+08</td>\n",
       "      <td>8.742577e+10</td>\n",
       "      <td>2.147483e+09</td>\n",
       "      <td>3.273600e+04</td>\n",
       "      <td>1.000000e+00</td>\n",
       "      <td>9.999000e+03</td>\n",
       "      <td>3.000000e+00</td>\n",
       "      <td>1.000000e+00</td>\n",
       "      <td>3.000000e+05</td>\n",
       "    </tr>\n",
       "  </tbody>\n",
       "</table>\n",
       "</div>"
      ],
      "text/plain": [
       "             row_id     timestamp       user_id    content_id  \\\n",
       "count  1.012303e+08  1.012303e+08  1.012303e+08  1.012303e+08   \n",
       "mean   5.061517e+07  7.703644e+09  1.076732e+09  5.219605e+03   \n",
       "std    2.922268e+07  1.159266e+10  6.197163e+08  3.866359e+03   \n",
       "min    0.000000e+00  0.000000e+00  1.150000e+02  0.000000e+00   \n",
       "25%    2.530758e+07  5.243436e+08  5.408116e+08  2.063000e+03   \n",
       "50%    5.061517e+07  2.674234e+09  1.071781e+09  5.026000e+03   \n",
       "75%    7.592275e+07  9.924551e+09  1.615742e+09  7.425000e+03   \n",
       "max    1.012303e+08  8.742577e+10  2.147483e+09  3.273600e+04   \n",
       "\n",
       "       content_type_id  task_container_id   user_answer  answered_correctly  \\\n",
       "count     1.012303e+08       1.012303e+08  1.012303e+08        1.012303e+08   \n",
       "mean      1.935222e-02       9.040624e+02  1.376123e+00        6.251644e-01   \n",
       "std       1.377596e-01       1.358302e+03  1.192896e+00        5.225307e-01   \n",
       "min       0.000000e+00       0.000000e+00 -1.000000e+00       -1.000000e+00   \n",
       "25%       0.000000e+00       1.040000e+02  0.000000e+00        0.000000e+00   \n",
       "50%       0.000000e+00       3.820000e+02  1.000000e+00        1.000000e+00   \n",
       "75%       0.000000e+00       1.094000e+03  3.000000e+00        1.000000e+00   \n",
       "max       1.000000e+00       9.999000e+03  3.000000e+00        1.000000e+00   \n",
       "\n",
       "       prior_question_elapsed_time  \n",
       "count                 9.887879e+07  \n",
       "mean                  2.542381e+04  \n",
       "std                   1.994815e+04  \n",
       "min                   0.000000e+00  \n",
       "25%                   1.600000e+04  \n",
       "50%                   2.100000e+04  \n",
       "75%                   2.966600e+04  \n",
       "max                   3.000000e+05  "
      ]
     },
     "execution_count": 28,
     "metadata": {},
     "output_type": "execute_result"
    }
   ],
   "source": [
    "df.describe()"
   ]
  },
  {
   "cell_type": "markdown",
   "id": "7cc99d80-7a7f-4760-9c89-4c90f2294d97",
   "metadata": {},
   "source": [
    "# 3.2.2. Анализ распределения значений"
   ]
  },
  {
   "cell_type": "markdown",
   "id": "2509d6be-ca7b-4ef2-99d4-d686d9566bf2",
   "metadata": {},
   "source": [
    "Рассмотрим гистограммы (распределение) значений по каждому числовому признаку (столбцу)"
   ]
  },
  {
   "cell_type": "markdown",
   "id": "08cd2954-76ae-4a43-bc0f-30c5c517ed6c",
   "metadata": {},
   "source": [
    "Сперва столбцы с \"большими\" значениями"
   ]
  },
  {
   "cell_type": "code",
   "execution_count": 29,
   "id": "ee4314e2-1b60-4e3f-9ccc-c517e0adc42a",
   "metadata": {},
   "outputs": [
    {
     "data": {
      "image/png": "[encoded data removed]",
      "text/plain": [
       "<Figure size 2000x1500 with 6 Axes>"
      ]
     },
     "metadata": {},
     "output_type": "display_data"
    }
   ],
   "source": [
    "num_col_big = ['row_id', 'timestamp', 'user_id', 'content_id', 'task_container_id', 'prior_question_elapsed_time']\n",
    "width = 2\n",
    "height = int(np.ceil(len(num_col_big) / width))\n",
    "fig, ax = plt.subplots(nrows = height, ncols = width, figsize = (20, 15))\n",
    "\n",
    "for idx, column_name in enumerate(num_col_big):\n",
    "    plt.subplot(height, width, idx + 1)\n",
    "    sns.histplot(data = df, x = column_name, bins = 40, color = 'brown')"
   ]
  },
  {
   "cell_type": "markdown",
   "id": "d824a446-8863-44b1-b366-03d879aad786",
   "metadata": {},
   "source": [
    "Затем рассмотрим столбцы с \"маленькими\" значениями"
   ]
  },
  {
   "cell_type": "code",
   "execution_count": 30,
   "id": "1027a552-43f2-4e71-a8de-ad3745df491d",
   "metadata": {},
   "outputs": [
    {
     "data": {
      "image/png": "[encoded data removed]",
      "text/plain": [
       "<Figure size 1500x400 with 3 Axes>"
      ]
     },
     "metadata": {},
     "output_type": "display_data"
    }
   ],
   "source": [
    "num_col_small = ['content_type_id', 'user_answer', 'answered_correctly']\n",
    "width = 3\n",
    "height = int(np.ceil(len(num_col_small) / width))\n",
    "fig, ax = plt.subplots(nrows = height, ncols = width, figsize = (15, 4))\n",
    "\n",
    "for idx, column_name in enumerate(num_col_small):\n",
    "    plt.subplot(height, width, idx + 1)\n",
    "    sns.histplot(data = df, x = column_name, bins = 5, color = 'purple')"
   ]
  },
  {
   "cell_type": "markdown",
   "id": "1961a7da-20b4-4610-9601-518829b98b8d",
   "metadata": {},
   "source": [
    "Осуществим очистку данных. Для этого:"
   ]
  },
  {
   "cell_type": "markdown",
   "id": "2d0ee1d4-0a83-40e5-9540-275d90e63093",
   "metadata": {},
   "source": [
    "Ищем пропуски в датафрейме questions_df с помощью метода .isna()"
   ]
  },
  {
   "cell_type": "code",
   "execution_count": 31,
   "id": "a99b18a3-4e28-4087-93d2-ead9086c1fae",
   "metadata": {},
   "outputs": [
    {
     "data": {
      "text/plain": [
       "row_id                                  0\n",
       "timestamp                               0\n",
       "user_id                                 0\n",
       "content_id                              0\n",
       "content_type_id                         0\n",
       "task_container_id                       0\n",
       "user_answer                             0\n",
       "answered_correctly                      0\n",
       "prior_question_elapsed_time       2351538\n",
       "prior_question_had_explanation     392506\n",
       "dtype: int64"
      ]
     },
     "execution_count": 31,
     "metadata": {},
     "output_type": "execute_result"
    }
   ],
   "source": [
    "df.isna().sum()"
   ]
  },
  {
   "cell_type": "markdown",
   "id": "3ff9d599-5fec-410a-b703-d59952139cc7",
   "metadata": {},
   "source": [
    "Как мы можем увидеть в датафрейме df имеются дубликаты в столбце времени ответа на каждый вопрос и в столбце просмотра объяснений и правильных ответов.\n",
    "В столбце времени ответа на каждый вопрос есть 2351538 пропуска.\n",
    "В столбце просмотра объяснений и правильных ответов их 392506."
   ]
  },
  {
   "cell_type": "markdown",
   "id": "b480770a-b037-42f6-b165-bb297c617596",
   "metadata": {},
   "source": [
    "Выведем пропуски в столбце времени ответа на каждый вопрос:"
   ]
  },
  {
   "cell_type": "code",
   "execution_count": 32,
   "id": "8f3f7cd6-2956-482b-b762-37d9f291932a",
   "metadata": {},
   "outputs": [
    {
     "data": {
      "text/html": [
       "<div>\n",
       "<style scoped>\n",
       "    .dataframe tbody tr th:only-of-type {\n",
       "        vertical-align: middle;\n",
       "    }\n",
       "\n",
       "    .dataframe tbody tr th {\n",
       "        vertical-align: top;\n",
       "    }\n",
       "\n",
       "    .dataframe thead th {\n",
       "        text-align: right;\n",
       "    }\n",
       "</style>\n",
       "<table border=\"1\" class=\"dataframe\">\n",
       "  <thead>\n",
       "    <tr style=\"text-align: right;\">\n",
       "      <th></th>\n",
       "      <th>row_id</th>\n",
       "      <th>timestamp</th>\n",
       "      <th>user_id</th>\n",
       "      <th>content_id</th>\n",
       "      <th>content_type_id</th>\n",
       "      <th>task_container_id</th>\n",
       "      <th>user_answer</th>\n",
       "      <th>answered_correctly</th>\n",
       "      <th>prior_question_elapsed_time</th>\n",
       "      <th>prior_question_had_explanation</th>\n",
       "    </tr>\n",
       "  </thead>\n",
       "  <tbody>\n",
       "    <tr>\n",
       "      <th>0</th>\n",
       "      <td>0</td>\n",
       "      <td>0</td>\n",
       "      <td>115</td>\n",
       "      <td>5692</td>\n",
       "      <td>0</td>\n",
       "      <td>1</td>\n",
       "      <td>3</td>\n",
       "      <td>1</td>\n",
       "      <td>NaN</td>\n",
       "      <td>NaN</td>\n",
       "    </tr>\n",
       "    <tr>\n",
       "      <th>46</th>\n",
       "      <td>46</td>\n",
       "      <td>0</td>\n",
       "      <td>124</td>\n",
       "      <td>7900</td>\n",
       "      <td>0</td>\n",
       "      <td>0</td>\n",
       "      <td>0</td>\n",
       "      <td>1</td>\n",
       "      <td>NaN</td>\n",
       "      <td>NaN</td>\n",
       "    </tr>\n",
       "    <tr>\n",
       "      <th>76</th>\n",
       "      <td>76</td>\n",
       "      <td>0</td>\n",
       "      <td>2746</td>\n",
       "      <td>5273</td>\n",
       "      <td>0</td>\n",
       "      <td>0</td>\n",
       "      <td>1</td>\n",
       "      <td>0</td>\n",
       "      <td>NaN</td>\n",
       "      <td>NaN</td>\n",
       "    </tr>\n",
       "    <tr>\n",
       "      <th>89</th>\n",
       "      <td>89</td>\n",
       "      <td>653762</td>\n",
       "      <td>2746</td>\n",
       "      <td>6808</td>\n",
       "      <td>1</td>\n",
       "      <td>14</td>\n",
       "      <td>-1</td>\n",
       "      <td>-1</td>\n",
       "      <td>NaN</td>\n",
       "      <td>False</td>\n",
       "    </tr>\n",
       "    <tr>\n",
       "      <th>96</th>\n",
       "      <td>96</td>\n",
       "      <td>0</td>\n",
       "      <td>5382</td>\n",
       "      <td>5000</td>\n",
       "      <td>0</td>\n",
       "      <td>0</td>\n",
       "      <td>0</td>\n",
       "      <td>1</td>\n",
       "      <td>NaN</td>\n",
       "      <td>NaN</td>\n",
       "    </tr>\n",
       "    <tr>\n",
       "      <th>...</th>\n",
       "      <td>...</td>\n",
       "      <td>...</td>\n",
       "      <td>...</td>\n",
       "      <td>...</td>\n",
       "      <td>...</td>\n",
       "      <td>...</td>\n",
       "      <td>...</td>\n",
       "      <td>...</td>\n",
       "      <td>...</td>\n",
       "      <td>...</td>\n",
       "    </tr>\n",
       "    <tr>\n",
       "      <th>101230195</th>\n",
       "      <td>101230195</td>\n",
       "      <td>1073593458</td>\n",
       "      <td>2147482216</td>\n",
       "      <td>21887</td>\n",
       "      <td>1</td>\n",
       "      <td>170</td>\n",
       "      <td>-1</td>\n",
       "      <td>-1</td>\n",
       "      <td>NaN</td>\n",
       "      <td>False</td>\n",
       "    </tr>\n",
       "    <tr>\n",
       "      <th>101230218</th>\n",
       "      <td>101230218</td>\n",
       "      <td>1240316256</td>\n",
       "      <td>2147482216</td>\n",
       "      <td>6808</td>\n",
       "      <td>1</td>\n",
       "      <td>193</td>\n",
       "      <td>-1</td>\n",
       "      <td>-1</td>\n",
       "      <td>NaN</td>\n",
       "      <td>False</td>\n",
       "    </tr>\n",
       "    <tr>\n",
       "      <th>101230220</th>\n",
       "      <td>101230220</td>\n",
       "      <td>1240470616</td>\n",
       "      <td>2147482216</td>\n",
       "      <td>27699</td>\n",
       "      <td>1</td>\n",
       "      <td>195</td>\n",
       "      <td>-1</td>\n",
       "      <td>-1</td>\n",
       "      <td>NaN</td>\n",
       "      <td>False</td>\n",
       "    </tr>\n",
       "    <tr>\n",
       "      <th>101230222</th>\n",
       "      <td>101230222</td>\n",
       "      <td>1240524060</td>\n",
       "      <td>2147482216</td>\n",
       "      <td>5752</td>\n",
       "      <td>1</td>\n",
       "      <td>197</td>\n",
       "      <td>-1</td>\n",
       "      <td>-1</td>\n",
       "      <td>NaN</td>\n",
       "      <td>False</td>\n",
       "    </tr>\n",
       "    <tr>\n",
       "      <th>101230305</th>\n",
       "      <td>101230305</td>\n",
       "      <td>0</td>\n",
       "      <td>2147482888</td>\n",
       "      <td>6147</td>\n",
       "      <td>0</td>\n",
       "      <td>0</td>\n",
       "      <td>0</td>\n",
       "      <td>1</td>\n",
       "      <td>NaN</td>\n",
       "      <td>NaN</td>\n",
       "    </tr>\n",
       "  </tbody>\n",
       "</table>\n",
       "<p>2351538 rows × 10 columns</p>\n",
       "</div>"
      ],
      "text/plain": [
       "              row_id   timestamp     user_id  content_id  content_type_id  \\\n",
       "0                  0           0         115        5692                0   \n",
       "46                46           0         124        7900                0   \n",
       "76                76           0        2746        5273                0   \n",
       "89                89      653762        2746        6808                1   \n",
       "96                96           0        5382        5000                0   \n",
       "...              ...         ...         ...         ...              ...   \n",
       "101230195  101230195  1073593458  2147482216       21887                1   \n",
       "101230218  101230218  1240316256  2147482216        6808                1   \n",
       "101230220  101230220  1240470616  2147482216       27699                1   \n",
       "101230222  101230222  1240524060  2147482216        5752                1   \n",
       "101230305  101230305           0  2147482888        6147                0   \n",
       "\n",
       "           task_container_id  user_answer  answered_correctly  \\\n",
       "0                          1            3                   1   \n",
       "46                         0            0                   1   \n",
       "76                         0            1                   0   \n",
       "89                        14           -1                  -1   \n",
       "96                         0            0                   1   \n",
       "...                      ...          ...                 ...   \n",
       "101230195                170           -1                  -1   \n",
       "101230218                193           -1                  -1   \n",
       "101230220                195           -1                  -1   \n",
       "101230222                197           -1                  -1   \n",
       "101230305                  0            0                   1   \n",
       "\n",
       "           prior_question_elapsed_time prior_question_had_explanation  \n",
       "0                                  NaN                            NaN  \n",
       "46                                 NaN                            NaN  \n",
       "76                                 NaN                            NaN  \n",
       "89                                 NaN                          False  \n",
       "96                                 NaN                            NaN  \n",
       "...                                ...                            ...  \n",
       "101230195                          NaN                          False  \n",
       "101230218                          NaN                          False  \n",
       "101230220                          NaN                          False  \n",
       "101230222                          NaN                          False  \n",
       "101230305                          NaN                            NaN  \n",
       "\n",
       "[2351538 rows x 10 columns]"
      ]
     },
     "execution_count": 32,
     "metadata": {},
     "output_type": "execute_result"
    }
   ],
   "source": [
    "df[df.prior_question_elapsed_time.isna()]"
   ]
  },
  {
   "cell_type": "markdown",
   "id": "8a805421-b760-4c86-9073-ecc92c9049a8",
   "metadata": {},
   "source": [
    "Пропуски обусловлены условием: имеет значение null для 1-го набора вопросов или лекции."
   ]
  },
  {
   "cell_type": "markdown",
   "id": "ee02fa8d-3472-47a5-83d3-e26d1e66e4a4",
   "metadata": {},
   "source": [
    "Теперь выведем пропуски в столбце просмотра объяснений и правильных ответов."
   ]
  },
  {
   "cell_type": "code",
   "execution_count": 33,
   "id": "66fca23d-1ab5-4162-ac2e-e22fe3353678",
   "metadata": {},
   "outputs": [
    {
     "data": {
      "text/html": [
       "<div>\n",
       "<style scoped>\n",
       "    .dataframe tbody tr th:only-of-type {\n",
       "        vertical-align: middle;\n",
       "    }\n",
       "\n",
       "    .dataframe tbody tr th {\n",
       "        vertical-align: top;\n",
       "    }\n",
       "\n",
       "    .dataframe thead th {\n",
       "        text-align: right;\n",
       "    }\n",
       "</style>\n",
       "<table border=\"1\" class=\"dataframe\">\n",
       "  <thead>\n",
       "    <tr style=\"text-align: right;\">\n",
       "      <th></th>\n",
       "      <th>row_id</th>\n",
       "      <th>timestamp</th>\n",
       "      <th>user_id</th>\n",
       "      <th>content_id</th>\n",
       "      <th>content_type_id</th>\n",
       "      <th>task_container_id</th>\n",
       "      <th>user_answer</th>\n",
       "      <th>answered_correctly</th>\n",
       "      <th>prior_question_elapsed_time</th>\n",
       "      <th>prior_question_had_explanation</th>\n",
       "    </tr>\n",
       "  </thead>\n",
       "  <tbody>\n",
       "    <tr>\n",
       "      <th>0</th>\n",
       "      <td>0</td>\n",
       "      <td>0</td>\n",
       "      <td>115</td>\n",
       "      <td>5692</td>\n",
       "      <td>0</td>\n",
       "      <td>1</td>\n",
       "      <td>3</td>\n",
       "      <td>1</td>\n",
       "      <td>NaN</td>\n",
       "      <td>NaN</td>\n",
       "    </tr>\n",
       "    <tr>\n",
       "      <th>46</th>\n",
       "      <td>46</td>\n",
       "      <td>0</td>\n",
       "      <td>124</td>\n",
       "      <td>7900</td>\n",
       "      <td>0</td>\n",
       "      <td>0</td>\n",
       "      <td>0</td>\n",
       "      <td>1</td>\n",
       "      <td>NaN</td>\n",
       "      <td>NaN</td>\n",
       "    </tr>\n",
       "    <tr>\n",
       "      <th>76</th>\n",
       "      <td>76</td>\n",
       "      <td>0</td>\n",
       "      <td>2746</td>\n",
       "      <td>5273</td>\n",
       "      <td>0</td>\n",
       "      <td>0</td>\n",
       "      <td>1</td>\n",
       "      <td>0</td>\n",
       "      <td>NaN</td>\n",
       "      <td>NaN</td>\n",
       "    </tr>\n",
       "    <tr>\n",
       "      <th>96</th>\n",
       "      <td>96</td>\n",
       "      <td>0</td>\n",
       "      <td>5382</td>\n",
       "      <td>5000</td>\n",
       "      <td>0</td>\n",
       "      <td>0</td>\n",
       "      <td>0</td>\n",
       "      <td>1</td>\n",
       "      <td>NaN</td>\n",
       "      <td>NaN</td>\n",
       "    </tr>\n",
       "    <tr>\n",
       "      <th>224</th>\n",
       "      <td>224</td>\n",
       "      <td>0</td>\n",
       "      <td>8623</td>\n",
       "      <td>3915</td>\n",
       "      <td>0</td>\n",
       "      <td>0</td>\n",
       "      <td>3</td>\n",
       "      <td>1</td>\n",
       "      <td>NaN</td>\n",
       "      <td>NaN</td>\n",
       "    </tr>\n",
       "    <tr>\n",
       "      <th>...</th>\n",
       "      <td>...</td>\n",
       "      <td>...</td>\n",
       "      <td>...</td>\n",
       "      <td>...</td>\n",
       "      <td>...</td>\n",
       "      <td>...</td>\n",
       "      <td>...</td>\n",
       "      <td>...</td>\n",
       "      <td>...</td>\n",
       "      <td>...</td>\n",
       "    </tr>\n",
       "    <tr>\n",
       "      <th>101228989</th>\n",
       "      <td>101228989</td>\n",
       "      <td>0</td>\n",
       "      <td>2147470770</td>\n",
       "      <td>7900</td>\n",
       "      <td>0</td>\n",
       "      <td>0</td>\n",
       "      <td>0</td>\n",
       "      <td>1</td>\n",
       "      <td>NaN</td>\n",
       "      <td>NaN</td>\n",
       "    </tr>\n",
       "    <tr>\n",
       "      <th>101229217</th>\n",
       "      <td>101229217</td>\n",
       "      <td>0</td>\n",
       "      <td>2147470777</td>\n",
       "      <td>7900</td>\n",
       "      <td>0</td>\n",
       "      <td>0</td>\n",
       "      <td>2</td>\n",
       "      <td>0</td>\n",
       "      <td>NaN</td>\n",
       "      <td>NaN</td>\n",
       "    </tr>\n",
       "    <tr>\n",
       "      <th>101229975</th>\n",
       "      <td>101229975</td>\n",
       "      <td>0</td>\n",
       "      <td>2147481750</td>\n",
       "      <td>4137</td>\n",
       "      <td>0</td>\n",
       "      <td>0</td>\n",
       "      <td>0</td>\n",
       "      <td>0</td>\n",
       "      <td>NaN</td>\n",
       "      <td>NaN</td>\n",
       "    </tr>\n",
       "    <tr>\n",
       "      <th>101230025</th>\n",
       "      <td>101230025</td>\n",
       "      <td>0</td>\n",
       "      <td>2147482216</td>\n",
       "      <td>3748</td>\n",
       "      <td>0</td>\n",
       "      <td>0</td>\n",
       "      <td>1</td>\n",
       "      <td>0</td>\n",
       "      <td>NaN</td>\n",
       "      <td>NaN</td>\n",
       "    </tr>\n",
       "    <tr>\n",
       "      <th>101230305</th>\n",
       "      <td>101230305</td>\n",
       "      <td>0</td>\n",
       "      <td>2147482888</td>\n",
       "      <td>6147</td>\n",
       "      <td>0</td>\n",
       "      <td>0</td>\n",
       "      <td>0</td>\n",
       "      <td>1</td>\n",
       "      <td>NaN</td>\n",
       "      <td>NaN</td>\n",
       "    </tr>\n",
       "  </tbody>\n",
       "</table>\n",
       "<p>392506 rows × 10 columns</p>\n",
       "</div>"
      ],
      "text/plain": [
       "              row_id  timestamp     user_id  content_id  content_type_id  \\\n",
       "0                  0          0         115        5692                0   \n",
       "46                46          0         124        7900                0   \n",
       "76                76          0        2746        5273                0   \n",
       "96                96          0        5382        5000                0   \n",
       "224              224          0        8623        3915                0   \n",
       "...              ...        ...         ...         ...              ...   \n",
       "101228989  101228989          0  2147470770        7900                0   \n",
       "101229217  101229217          0  2147470777        7900                0   \n",
       "101229975  101229975          0  2147481750        4137                0   \n",
       "101230025  101230025          0  2147482216        3748                0   \n",
       "101230305  101230305          0  2147482888        6147                0   \n",
       "\n",
       "           task_container_id  user_answer  answered_correctly  \\\n",
       "0                          1            3                   1   \n",
       "46                         0            0                   1   \n",
       "76                         0            1                   0   \n",
       "96                         0            0                   1   \n",
       "224                        0            3                   1   \n",
       "...                      ...          ...                 ...   \n",
       "101228989                  0            0                   1   \n",
       "101229217                  0            2                   0   \n",
       "101229975                  0            0                   0   \n",
       "101230025                  0            1                   0   \n",
       "101230305                  0            0                   1   \n",
       "\n",
       "           prior_question_elapsed_time prior_question_had_explanation  \n",
       "0                                  NaN                            NaN  \n",
       "46                                 NaN                            NaN  \n",
       "76                                 NaN                            NaN  \n",
       "96                                 NaN                            NaN  \n",
       "224                                NaN                            NaN  \n",
       "...                                ...                            ...  \n",
       "101228989                          NaN                            NaN  \n",
       "101229217                          NaN                            NaN  \n",
       "101229975                          NaN                            NaN  \n",
       "101230025                          NaN                            NaN  \n",
       "101230305                          NaN                            NaN  \n",
       "\n",
       "[392506 rows x 10 columns]"
      ]
     },
     "execution_count": 33,
     "metadata": {},
     "output_type": "execute_result"
    }
   ],
   "source": [
    "df[df.prior_question_had_explanation.isna()]"
   ]
  },
  {
   "cell_type": "markdown",
   "id": "b9fe31df-3276-4130-b891-72b1fbcada8e",
   "metadata": {},
   "source": [
    "Здесь пропуски обусловлены условием: имеет значение null для 1-го набора вопросов или лекции."
   ]
  },
  {
   "cell_type": "markdown",
   "id": "a7643889-2ec4-4551-8c98-79b37d3c3e1e",
   "metadata": {},
   "source": [
    "Далее осуществим поиск дубликатов в датафрейме df\n"
   ]
  },
  {
   "cell_type": "code",
   "execution_count": 34,
   "id": "6df7d3f3-3c9c-417f-9cef-2782c3e5e89c",
   "metadata": {},
   "outputs": [
    {
     "data": {
      "text/plain": [
       "0"
      ]
     },
     "execution_count": 34,
     "metadata": {},
     "output_type": "execute_result"
    }
   ],
   "source": [
    "df.duplicated().sum()"
   ]
  },
  {
   "cell_type": "markdown",
   "id": "8de4eb95-f140-4fab-b8de-f6e863f6d961",
   "metadata": {},
   "source": [
    "Как мы можем увидеть, дубликаты в датафрейме df отсутствуют."
   ]
  },
  {
   "cell_type": "markdown",
   "id": "3cdfebb1-6804-4a39-b5f1-5137244df760",
   "metadata": {},
   "source": [
    "Теперь с помощью метода .info выведем справку о количестве значений в каждом столбце и типе данных рассматриваемого датафрейма"
   ]
  },
  {
   "cell_type": "code",
   "execution_count": 35,
   "id": "51271c13-c80d-4125-ae1e-5823afbf35c7",
   "metadata": {},
   "outputs": [
    {
     "name": "stdout",
     "output_type": "stream",
     "text": [
      "<class 'pandas.core.frame.DataFrame'>\n",
      "RangeIndex: 101230332 entries, 0 to 101230331\n",
      "Data columns (total 10 columns):\n",
      " #   Column                          Dtype  \n",
      "---  ------                          -----  \n",
      " 0   row_id                          int64  \n",
      " 1   timestamp                       int64  \n",
      " 2   user_id                         int64  \n",
      " 3   content_id                      int64  \n",
      " 4   content_type_id                 int64  \n",
      " 5   task_container_id               int64  \n",
      " 6   user_answer                     int64  \n",
      " 7   answered_correctly              int64  \n",
      " 8   prior_question_elapsed_time     float64\n",
      " 9   prior_question_had_explanation  object \n",
      "dtypes: float64(1), int64(8), object(1)\n",
      "memory usage: 7.5+ GB\n"
     ]
    }
   ],
   "source": [
    "df.info()"
   ]
  },
  {
   "cell_type": "markdown",
   "id": "9f4b6271-2535-42c5-ad4d-b8bdf4d8f508",
   "metadata": {},
   "source": [
    "# 3.2.3. Промежуточные выводы\n",
    "По результатам анализа сведений, полученных в результате предварительной обработки данных, можно сделать следующие выводы:\n",
    "- столбец row_id совпадает с индексом датафрейма df;\n",
    "- датафрейм df занимает 7.5+ GB памяти."
   ]
  },
  {
   "cell_type": "markdown",
   "id": "6f8bc642-db40-433c-b742-01f5357caa26",
   "metadata": {},
   "source": [
    "# 3.2.4. Предложения\n",
    "- удалить столбец row_id;\n",
    "- изменить формат хранения некоторых данных при помощи метода .astype для уменьшения объёма памяти, занимаемой датафреймом, и увеличения скорости исследования."
   ]
  },
  {
   "cell_type": "code",
   "execution_count": 36,
   "id": "f5a3078b-8b40-4711-8b45-ef208f887421",
   "metadata": {},
   "outputs": [],
   "source": [
    "df = df.drop('row_id', axis = 1)\n",
    "df['timestamp'] = df['timestamp'].astype('uint64')\n",
    "df['user_id'] = df['user_id'].astype('uint32')\n",
    "df['content_id'] = df['content_id'].astype('uint16')\n",
    "df['content_type_id'] = df['content_type_id'].astype('int8')\n",
    "df['task_container_id'] = df['task_container_id'].astype('uint16')\n",
    "df['user_answer'] = df['user_answer'].astype('int8')\n",
    "df['answered_correctly'] = df['answered_correctly'].astype('int8')\n",
    "df['prior_question_elapsed_time'] = df['prior_question_elapsed_time'].astype('float32')"
   ]
  },
  {
   "cell_type": "markdown",
   "id": "ccf692cd-0a06-43dd-956f-d601752448b2",
   "metadata": {},
   "source": [
    "Выведем обновленную информацию датафрейма при помощи метода .info"
   ]
  },
  {
   "cell_type": "code",
   "execution_count": 37,
   "id": "00b00d08-a2a2-465a-a81f-c7f223b0ac82",
   "metadata": {},
   "outputs": [
    {
     "name": "stdout",
     "output_type": "stream",
     "text": [
      "<class 'pandas.core.frame.DataFrame'>\n",
      "RangeIndex: 101230332 entries, 0 to 101230331\n",
      "Data columns (total 9 columns):\n",
      " #   Column                          Dtype  \n",
      "---  ------                          -----  \n",
      " 0   timestamp                       uint64 \n",
      " 1   user_id                         uint32 \n",
      " 2   content_id                      uint16 \n",
      " 3   content_type_id                 int8   \n",
      " 4   task_container_id               uint16 \n",
      " 5   user_answer                     int8   \n",
      " 6   answered_correctly              int8   \n",
      " 7   prior_question_elapsed_time     float32\n",
      " 8   prior_question_had_explanation  object \n",
      "dtypes: float32(1), int8(3), object(1), uint16(2), uint32(1), uint64(1)\n",
      "memory usage: 2.9+ GB\n"
     ]
    }
   ],
   "source": [
    "df.info()"
   ]
  },
  {
   "cell_type": "markdown",
   "id": "ae4b6e89-7b29-41fb-8368-0ffd50aaf2d2",
   "metadata": {},
   "source": [
    "Определим, во сколько раз изменился размер датафрейма\n"
   ]
  },
  {
   "cell_type": "code",
   "execution_count": 38,
   "id": "fd22f852-5777-42a5-bab4-a671e12bfaa8",
   "metadata": {},
   "outputs": [
    {
     "name": "stdout",
     "output_type": "stream",
     "text": [
      "2.6\n"
     ]
    }
   ],
   "source": [
    "print(round(7.5 / 2.9, 1))"
   ]
  },
  {
   "cell_type": "markdown",
   "id": "491f7816-0e99-4a41-a02f-c275969db9d1",
   "metadata": {},
   "source": [
    "Таким образом, после выполненной обработки объем памяти, занимаемый датафремом уменьшился в 2,6 раза"
   ]
  },
  {
   "cell_type": "markdown",
   "id": "ca076213-c101-4758-b29e-341273d56d4c",
   "metadata": {},
   "source": [
    "# 3.2.5 Анализ зависимостей"
   ]
  },
  {
   "cell_type": "markdown",
   "id": "01a46a0d-1839-476b-910f-4523d74136bc",
   "metadata": {},
   "source": [
    "Далее рассмотрим корреляцию числовых признаков и их связь с успеваемостью студентов:"
   ]
  },
  {
   "cell_type": "code",
   "execution_count": 39,
   "id": "560fe7d3-da85-4520-8d7e-cf942c6953df",
   "metadata": {},
   "outputs": [
    {
     "data": {
      "text/html": [
       "<style type=\"text/css\">\n",
       "#T_9bc04_row0_col0, #T_9bc04_row1_col1, #T_9bc04_row2_col2, #T_9bc04_row3_col3, #T_9bc04_row4_col4, #T_9bc04_row5_col5, #T_9bc04_row6_col6, #T_9bc04_row7_col7 {\n",
       "  background-color: #a9373b;\n",
       "  color: #f1f1f1;\n",
       "}\n",
       "#T_9bc04_row0_col1, #T_9bc04_row1_col0, #T_9bc04_row1_col3, #T_9bc04_row1_col6, #T_9bc04_row3_col1, #T_9bc04_row4_col7, #T_9bc04_row6_col1, #T_9bc04_row6_col7, #T_9bc04_row7_col4, #T_9bc04_row7_col6 {\n",
       "  background-color: #faf5f5;\n",
       "  color: #000000;\n",
       "}\n",
       "#T_9bc04_row0_col2, #T_9bc04_row2_col0 {\n",
       "  background-color: #faf0ef;\n",
       "  color: #000000;\n",
       "}\n",
       "#T_9bc04_row0_col3, #T_9bc04_row0_col5, #T_9bc04_row0_col7, #T_9bc04_row1_col2, #T_9bc04_row1_col4, #T_9bc04_row1_col5, #T_9bc04_row1_col7, #T_9bc04_row2_col1, #T_9bc04_row3_col0, #T_9bc04_row4_col1, #T_9bc04_row4_col5, #T_9bc04_row5_col0, #T_9bc04_row5_col1, #T_9bc04_row5_col4, #T_9bc04_row5_col7, #T_9bc04_row7_col0, #T_9bc04_row7_col1, #T_9bc04_row7_col5 {\n",
       "  background-color: #faf5f4;\n",
       "  color: #000000;\n",
       "}\n",
       "#T_9bc04_row0_col4, #T_9bc04_row4_col0 {\n",
       "  background-color: #d9a5a2;\n",
       "  color: #000000;\n",
       "}\n",
       "#T_9bc04_row0_col6, #T_9bc04_row6_col0 {\n",
       "  background-color: #faf3f3;\n",
       "  color: #000000;\n",
       "}\n",
       "#T_9bc04_row2_col3, #T_9bc04_row3_col2 {\n",
       "  background-color: #daa8a5;\n",
       "  color: #000000;\n",
       "}\n",
       "#T_9bc04_row2_col4, #T_9bc04_row4_col2 {\n",
       "  background-color: #faf2f1;\n",
       "  color: #000000;\n",
       "}\n",
       "#T_9bc04_row2_col5, #T_9bc04_row5_col2 {\n",
       "  background-color: #ecebef;\n",
       "  color: #000000;\n",
       "}\n",
       "#T_9bc04_row2_col6, #T_9bc04_row6_col2 {\n",
       "  background-color: #d9dce5;\n",
       "  color: #000000;\n",
       "}\n",
       "#T_9bc04_row2_col7, #T_9bc04_row7_col2 {\n",
       "  background-color: #f1dddb;\n",
       "  color: #000000;\n",
       "}\n",
       "#T_9bc04_row3_col4, #T_9bc04_row4_col3 {\n",
       "  background-color: #f9f5f5;\n",
       "  color: #000000;\n",
       "}\n",
       "#T_9bc04_row3_col5, #T_9bc04_row5_col3 {\n",
       "  background-color: #c8cfdd;\n",
       "  color: #000000;\n",
       "}\n",
       "#T_9bc04_row3_col6, #T_9bc04_row6_col3 {\n",
       "  background-color: #a8b7cf;\n",
       "  color: #000000;\n",
       "}\n",
       "#T_9bc04_row3_col7, #T_9bc04_row7_col3 {\n",
       "  background-color: #000000;\n",
       "  color: #f1f1f1;\n",
       "}\n",
       "#T_9bc04_row4_col6, #T_9bc04_row6_col4 {\n",
       "  background-color: #f9efee;\n",
       "  color: #000000;\n",
       "}\n",
       "#T_9bc04_row5_col6, #T_9bc04_row6_col5 {\n",
       "  background-color: #f3e2e0;\n",
       "  color: #000000;\n",
       "}\n",
       "</style>\n",
       "<table id=\"T_9bc04\">\n",
       "  <thead>\n",
       "    <tr>\n",
       "      <th class=\"blank level0\" >&nbsp;</th>\n",
       "      <th id=\"T_9bc04_level0_col0\" class=\"col_heading level0 col0\" >timestamp</th>\n",
       "      <th id=\"T_9bc04_level0_col1\" class=\"col_heading level0 col1\" >user_id</th>\n",
       "      <th id=\"T_9bc04_level0_col2\" class=\"col_heading level0 col2\" >content_id</th>\n",
       "      <th id=\"T_9bc04_level0_col3\" class=\"col_heading level0 col3\" >content_type_id</th>\n",
       "      <th id=\"T_9bc04_level0_col4\" class=\"col_heading level0 col4\" >task_container_id</th>\n",
       "      <th id=\"T_9bc04_level0_col5\" class=\"col_heading level0 col5\" >user_answer</th>\n",
       "      <th id=\"T_9bc04_level0_col6\" class=\"col_heading level0 col6\" >answered_correctly</th>\n",
       "      <th id=\"T_9bc04_level0_col7\" class=\"col_heading level0 col7\" >prior_question_elapsed_time</th>\n",
       "    </tr>\n",
       "  </thead>\n",
       "  <tbody>\n",
       "    <tr>\n",
       "      <th id=\"T_9bc04_level0_row0\" class=\"row_heading level0 row0\" >timestamp</th>\n",
       "      <td id=\"T_9bc04_row0_col0\" class=\"data row0 col0\" >1.000000</td>\n",
       "      <td id=\"T_9bc04_row0_col1\" class=\"data row0 col1\" >-0.000041</td>\n",
       "      <td id=\"T_9bc04_row0_col2\" class=\"data row0 col2\" >0.052931</td>\n",
       "      <td id=\"T_9bc04_row0_col3\" class=\"data row0 col3\" >0.000974</td>\n",
       "      <td id=\"T_9bc04_row0_col4\" class=\"data row0 col4\" >0.433359</td>\n",
       "      <td id=\"T_9bc04_row0_col5\" class=\"data row0 col5\" >0.000724</td>\n",
       "      <td id=\"T_9bc04_row0_col6\" class=\"data row0 col6\" >0.025452</td>\n",
       "      <td id=\"T_9bc04_row0_col7\" class=\"data row0 col7\" >0.013934</td>\n",
       "    </tr>\n",
       "    <tr>\n",
       "      <th id=\"T_9bc04_level0_row1\" class=\"row_heading level0 row1\" >user_id</th>\n",
       "      <td id=\"T_9bc04_row1_col0\" class=\"data row1 col0\" >-0.000041</td>\n",
       "      <td id=\"T_9bc04_row1_col1\" class=\"data row1 col1\" >1.000000</td>\n",
       "      <td id=\"T_9bc04_row1_col2\" class=\"data row1 col2\" >0.000868</td>\n",
       "      <td id=\"T_9bc04_row1_col3\" class=\"data row1 col3\" >-0.000150</td>\n",
       "      <td id=\"T_9bc04_row1_col4\" class=\"data row1 col4\" >0.001498</td>\n",
       "      <td id=\"T_9bc04_row1_col5\" class=\"data row1 col5\" >0.000156</td>\n",
       "      <td id=\"T_9bc04_row1_col6\" class=\"data row1 col6\" >-0.000307</td>\n",
       "      <td id=\"T_9bc04_row1_col7\" class=\"data row1 col7\" >0.000308</td>\n",
       "    </tr>\n",
       "    <tr>\n",
       "      <th id=\"T_9bc04_level0_row2\" class=\"row_heading level0 row2\" >content_id</th>\n",
       "      <td id=\"T_9bc04_row2_col0\" class=\"data row2 col0\" >0.052931</td>\n",
       "      <td id=\"T_9bc04_row2_col1\" class=\"data row2 col1\" >0.000868</td>\n",
       "      <td id=\"T_9bc04_row2_col2\" class=\"data row2 col2\" >1.000000</td>\n",
       "      <td id=\"T_9bc04_row2_col3\" class=\"data row2 col3\" >0.414640</td>\n",
       "      <td id=\"T_9bc04_row2_col4\" class=\"data row2 col4\" >0.046304</td>\n",
       "      <td id=\"T_9bc04_row2_col5\" class=\"data row2 col5\" >-0.106668</td>\n",
       "      <td id=\"T_9bc04_row2_col6\" class=\"data row2 col6\" >-0.196960</td>\n",
       "      <td id=\"T_9bc04_row2_col7\" class=\"data row2 col7\" >0.151661</td>\n",
       "    </tr>\n",
       "    <tr>\n",
       "      <th id=\"T_9bc04_level0_row3\" class=\"row_heading level0 row3\" >content_type_id</th>\n",
       "      <td id=\"T_9bc04_row3_col0\" class=\"data row3 col0\" >0.000974</td>\n",
       "      <td id=\"T_9bc04_row3_col1\" class=\"data row3 col1\" >-0.000150</td>\n",
       "      <td id=\"T_9bc04_row3_col2\" class=\"data row3 col2\" >0.414640</td>\n",
       "      <td id=\"T_9bc04_row3_col3\" class=\"data row3 col3\" >1.000000</td>\n",
       "      <td id=\"T_9bc04_row3_col4\" class=\"data row3 col4\" >-0.019647</td>\n",
       "      <td id=\"T_9bc04_row3_col5\" class=\"data row3 col5\" >-0.279818</td>\n",
       "      <td id=\"T_9bc04_row3_col6\" class=\"data row3 col6\" >-0.436912</td>\n",
       "      <td id=\"T_9bc04_row3_col7\" class=\"data row3 col7\" >nan</td>\n",
       "    </tr>\n",
       "    <tr>\n",
       "      <th id=\"T_9bc04_level0_row4\" class=\"row_heading level0 row4\" >task_container_id</th>\n",
       "      <td id=\"T_9bc04_row4_col0\" class=\"data row4 col0\" >0.433359</td>\n",
       "      <td id=\"T_9bc04_row4_col1\" class=\"data row4 col1\" >0.001498</td>\n",
       "      <td id=\"T_9bc04_row4_col2\" class=\"data row4 col2\" >0.046304</td>\n",
       "      <td id=\"T_9bc04_row4_col3\" class=\"data row4 col3\" >-0.019647</td>\n",
       "      <td id=\"T_9bc04_row4_col4\" class=\"data row4 col4\" >1.000000</td>\n",
       "      <td id=\"T_9bc04_row4_col5\" class=\"data row4 col5\" >0.008532</td>\n",
       "      <td id=\"T_9bc04_row4_col6\" class=\"data row4 col6\" >0.061129</td>\n",
       "      <td id=\"T_9bc04_row4_col7\" class=\"data row4 col7\" >-0.013412</td>\n",
       "    </tr>\n",
       "    <tr>\n",
       "      <th id=\"T_9bc04_level0_row5\" class=\"row_heading level0 row5\" >user_answer</th>\n",
       "      <td id=\"T_9bc04_row5_col0\" class=\"data row5 col0\" >0.000724</td>\n",
       "      <td id=\"T_9bc04_row5_col1\" class=\"data row5 col1\" >0.000156</td>\n",
       "      <td id=\"T_9bc04_row5_col2\" class=\"data row5 col2\" >-0.106668</td>\n",
       "      <td id=\"T_9bc04_row5_col3\" class=\"data row5 col3\" >-0.279818</td>\n",
       "      <td id=\"T_9bc04_row5_col4\" class=\"data row5 col4\" >0.008532</td>\n",
       "      <td id=\"T_9bc04_row5_col5\" class=\"data row5 col5\" >1.000000</td>\n",
       "      <td id=\"T_9bc04_row5_col6\" class=\"data row5 col6\" >0.126471</td>\n",
       "      <td id=\"T_9bc04_row5_col7\" class=\"data row5 col7\" >0.014570</td>\n",
       "    </tr>\n",
       "    <tr>\n",
       "      <th id=\"T_9bc04_level0_row6\" class=\"row_heading level0 row6\" >answered_correctly</th>\n",
       "      <td id=\"T_9bc04_row6_col0\" class=\"data row6 col0\" >0.025452</td>\n",
       "      <td id=\"T_9bc04_row6_col1\" class=\"data row6 col1\" >-0.000307</td>\n",
       "      <td id=\"T_9bc04_row6_col2\" class=\"data row6 col2\" >-0.196960</td>\n",
       "      <td id=\"T_9bc04_row6_col3\" class=\"data row6 col3\" >-0.436912</td>\n",
       "      <td id=\"T_9bc04_row6_col4\" class=\"data row6 col4\" >0.061129</td>\n",
       "      <td id=\"T_9bc04_row6_col5\" class=\"data row6 col5\" >0.126471</td>\n",
       "      <td id=\"T_9bc04_row6_col6\" class=\"data row6 col6\" >1.000000</td>\n",
       "      <td id=\"T_9bc04_row6_col7\" class=\"data row6 col7\" >-0.007900</td>\n",
       "    </tr>\n",
       "    <tr>\n",
       "      <th id=\"T_9bc04_level0_row7\" class=\"row_heading level0 row7\" >prior_question_elapsed_time</th>\n",
       "      <td id=\"T_9bc04_row7_col0\" class=\"data row7 col0\" >0.013934</td>\n",
       "      <td id=\"T_9bc04_row7_col1\" class=\"data row7 col1\" >0.000308</td>\n",
       "      <td id=\"T_9bc04_row7_col2\" class=\"data row7 col2\" >0.151661</td>\n",
       "      <td id=\"T_9bc04_row7_col3\" class=\"data row7 col3\" >nan</td>\n",
       "      <td id=\"T_9bc04_row7_col4\" class=\"data row7 col4\" >-0.013412</td>\n",
       "      <td id=\"T_9bc04_row7_col5\" class=\"data row7 col5\" >0.014570</td>\n",
       "      <td id=\"T_9bc04_row7_col6\" class=\"data row7 col6\" >-0.007900</td>\n",
       "      <td id=\"T_9bc04_row7_col7\" class=\"data row7 col7\" >1.000000</td>\n",
       "    </tr>\n",
       "  </tbody>\n",
       "</table>\n"
      ],
      "text/plain": [
       "<pandas.io.formats.style.Styler at 0x7fe5a0a90970>"
      ]
     },
     "execution_count": 39,
     "metadata": {},
     "output_type": "execute_result"
    }
   ],
   "source": [
    "cm = sns.color_palette(\"vlag\", as_cmap = True)\n",
    "df_corr = df.loc[:,['timestamp', 'user_id', 'content_id', 'content_type_id', 'task_container_id', 'user_answer', 'answered_correctly', 'prior_question_elapsed_time']]\n",
    "df_corr.corr().style.background_gradient(cmap = cm, vmin = -1, vmax = 1)"
   ]
  },
  {
   "cell_type": "markdown",
   "id": "6b6227af-ef10-46cb-95ab-aa6e30a4dda7",
   "metadata": {},
   "source": [
    "Дополнительно добавим столбец соотношения количества правильных ответов к количеству ответов студентов и выведем обновленную корреляцию числовых признаков:"
   ]
  },
  {
   "cell_type": "code",
   "execution_count": 64,
   "id": "1a33ff23-95bc-4a74-a3e9-696b435832c5",
   "metadata": {},
   "outputs": [
    {
     "data": {
      "text/html": [
       "<style type=\"text/css\">\n",
       "#T_889c7_row0_col0, #T_889c7_row1_col1, #T_889c7_row2_col2, #T_889c7_row3_col3, #T_889c7_row3_col4, #T_889c7_row4_col3, #T_889c7_row4_col4 {\n",
       "  background-color: #a9373b;\n",
       "  color: #f1f1f1;\n",
       "}\n",
       "#T_889c7_row0_col1, #T_889c7_row1_col0 {\n",
       "  background-color: #c8cfdd;\n",
       "  color: #000000;\n",
       "}\n",
       "#T_889c7_row0_col2, #T_889c7_row2_col0 {\n",
       "  background-color: #a8b7cf;\n",
       "  color: #000000;\n",
       "}\n",
       "#T_889c7_row0_col3, #T_889c7_row0_col4, #T_889c7_row3_col0, #T_889c7_row4_col0 {\n",
       "  background-color: #e8cac8;\n",
       "  color: #000000;\n",
       "}\n",
       "#T_889c7_row1_col2, #T_889c7_row2_col1 {\n",
       "  background-color: #f3e2e0;\n",
       "  color: #000000;\n",
       "}\n",
       "#T_889c7_row1_col3, #T_889c7_row1_col4, #T_889c7_row3_col1, #T_889c7_row4_col1 {\n",
       "  background-color: #95a9c8;\n",
       "  color: #f1f1f1;\n",
       "}\n",
       "#T_889c7_row2_col3, #T_889c7_row2_col4, #T_889c7_row3_col2, #T_889c7_row4_col2 {\n",
       "  background-color: #d1918e;\n",
       "  color: #f1f1f1;\n",
       "}\n",
       "</style>\n",
       "<table id=\"T_889c7\">\n",
       "  <thead>\n",
       "    <tr>\n",
       "      <th class=\"blank level0\" >&nbsp;</th>\n",
       "      <th id=\"T_889c7_level0_col0\" class=\"col_heading level0 col0\" >content_type_id</th>\n",
       "      <th id=\"T_889c7_level0_col1\" class=\"col_heading level0 col1\" >user_answer</th>\n",
       "      <th id=\"T_889c7_level0_col2\" class=\"col_heading level0 col2\" >answered_correctly</th>\n",
       "      <th id=\"T_889c7_level0_col3\" class=\"col_heading level0 col3\" >cor_ratio</th>\n",
       "      <th id=\"T_889c7_level0_col4\" class=\"col_heading level0 col4\" >progress</th>\n",
       "    </tr>\n",
       "  </thead>\n",
       "  <tbody>\n",
       "    <tr>\n",
       "      <th id=\"T_889c7_level0_row0\" class=\"row_heading level0 row0\" >content_type_id</th>\n",
       "      <td id=\"T_889c7_row0_col0\" class=\"data row0 col0\" >1.000000</td>\n",
       "      <td id=\"T_889c7_row0_col1\" class=\"data row0 col1\" >-0.279818</td>\n",
       "      <td id=\"T_889c7_row0_col2\" class=\"data row0 col2\" >-0.436912</td>\n",
       "      <td id=\"T_889c7_row0_col3\" class=\"data row0 col3\" >0.244676</td>\n",
       "      <td id=\"T_889c7_row0_col4\" class=\"data row0 col4\" >0.244676</td>\n",
       "    </tr>\n",
       "    <tr>\n",
       "      <th id=\"T_889c7_level0_row1\" class=\"row_heading level0 row1\" >user_answer</th>\n",
       "      <td id=\"T_889c7_row1_col0\" class=\"data row1 col0\" >-0.279818</td>\n",
       "      <td id=\"T_889c7_row1_col1\" class=\"data row1 col1\" >1.000000</td>\n",
       "      <td id=\"T_889c7_row1_col2\" class=\"data row1 col2\" >0.126471</td>\n",
       "      <td id=\"T_889c7_row1_col3\" class=\"data row1 col3\" >-0.529601</td>\n",
       "      <td id=\"T_889c7_row1_col4\" class=\"data row1 col4\" >-0.529601</td>\n",
       "    </tr>\n",
       "    <tr>\n",
       "      <th id=\"T_889c7_level0_row2\" class=\"row_heading level0 row2\" >answered_correctly</th>\n",
       "      <td id=\"T_889c7_row2_col0\" class=\"data row2 col0\" >-0.436912</td>\n",
       "      <td id=\"T_889c7_row2_col1\" class=\"data row2 col1\" >0.126471</td>\n",
       "      <td id=\"T_889c7_row2_col2\" class=\"data row2 col2\" >1.000000</td>\n",
       "      <td id=\"T_889c7_row2_col3\" class=\"data row2 col3\" >0.532950</td>\n",
       "      <td id=\"T_889c7_row2_col4\" class=\"data row2 col4\" >0.532950</td>\n",
       "    </tr>\n",
       "    <tr>\n",
       "      <th id=\"T_889c7_level0_row3\" class=\"row_heading level0 row3\" >cor_ratio</th>\n",
       "      <td id=\"T_889c7_row3_col0\" class=\"data row3 col0\" >0.244676</td>\n",
       "      <td id=\"T_889c7_row3_col1\" class=\"data row3 col1\" >-0.529601</td>\n",
       "      <td id=\"T_889c7_row3_col2\" class=\"data row3 col2\" >0.532950</td>\n",
       "      <td id=\"T_889c7_row3_col3\" class=\"data row3 col3\" >1.000000</td>\n",
       "      <td id=\"T_889c7_row3_col4\" class=\"data row3 col4\" >1.000000</td>\n",
       "    </tr>\n",
       "    <tr>\n",
       "      <th id=\"T_889c7_level0_row4\" class=\"row_heading level0 row4\" >progress</th>\n",
       "      <td id=\"T_889c7_row4_col0\" class=\"data row4 col0\" >0.244676</td>\n",
       "      <td id=\"T_889c7_row4_col1\" class=\"data row4 col1\" >-0.529601</td>\n",
       "      <td id=\"T_889c7_row4_col2\" class=\"data row4 col2\" >0.532950</td>\n",
       "      <td id=\"T_889c7_row4_col3\" class=\"data row4 col3\" >1.000000</td>\n",
       "      <td id=\"T_889c7_row4_col4\" class=\"data row4 col4\" >1.000000</td>\n",
       "    </tr>\n",
       "  </tbody>\n",
       "</table>\n"
      ],
      "text/plain": [
       "<pandas.io.formats.style.Styler at 0x7fe5703637c0>"
      ]
     },
     "execution_count": 64,
     "metadata": {},
     "output_type": "execute_result"
    }
   ],
   "source": [
    "df_corr['progress'] = df_corr.answered_correctly / df_corr.user_answer\n",
    "df_corr.corr().style.background_gradient(cmap = cm, vmin = -1, vmax = 1)"
   ]
  },
  {
   "cell_type": "markdown",
   "id": "1952288b-46b7-4ce1-92cf-372f90ff255d",
   "metadata": {},
   "source": [
    "Удалим ненужные столбцы и выведем обновленную корреляцию числовых признаков:"
   ]
  },
  {
   "cell_type": "code",
   "execution_count": 41,
   "id": "e8e88d05-aae9-42e9-8206-5cc5b999bf35",
   "metadata": {},
   "outputs": [
    {
     "data": {
      "text/html": [
       "<style type=\"text/css\">\n",
       "#T_715c5_row0_col0, #T_715c5_row1_col1, #T_715c5_row2_col2, #T_715c5_row3_col3 {\n",
       "  background-color: #a9373b;\n",
       "  color: #f1f1f1;\n",
       "}\n",
       "#T_715c5_row0_col1, #T_715c5_row1_col0 {\n",
       "  background-color: #c8cfdd;\n",
       "  color: #000000;\n",
       "}\n",
       "#T_715c5_row0_col2, #T_715c5_row2_col0 {\n",
       "  background-color: #a8b7cf;\n",
       "  color: #000000;\n",
       "}\n",
       "#T_715c5_row0_col3, #T_715c5_row3_col0 {\n",
       "  background-color: #e8cac8;\n",
       "  color: #000000;\n",
       "}\n",
       "#T_715c5_row1_col2, #T_715c5_row2_col1 {\n",
       "  background-color: #f3e2e0;\n",
       "  color: #000000;\n",
       "}\n",
       "#T_715c5_row1_col3, #T_715c5_row3_col1 {\n",
       "  background-color: #95a9c8;\n",
       "  color: #f1f1f1;\n",
       "}\n",
       "#T_715c5_row2_col3, #T_715c5_row3_col2 {\n",
       "  background-color: #d1918e;\n",
       "  color: #f1f1f1;\n",
       "}\n",
       "</style>\n",
       "<table id=\"T_715c5\">\n",
       "  <thead>\n",
       "    <tr>\n",
       "      <th class=\"blank level0\" >&nbsp;</th>\n",
       "      <th id=\"T_715c5_level0_col0\" class=\"col_heading level0 col0\" >content_type_id</th>\n",
       "      <th id=\"T_715c5_level0_col1\" class=\"col_heading level0 col1\" >user_answer</th>\n",
       "      <th id=\"T_715c5_level0_col2\" class=\"col_heading level0 col2\" >answered_correctly</th>\n",
       "      <th id=\"T_715c5_level0_col3\" class=\"col_heading level0 col3\" >cor_ratio</th>\n",
       "    </tr>\n",
       "  </thead>\n",
       "  <tbody>\n",
       "    <tr>\n",
       "      <th id=\"T_715c5_level0_row0\" class=\"row_heading level0 row0\" >content_type_id</th>\n",
       "      <td id=\"T_715c5_row0_col0\" class=\"data row0 col0\" >1.000000</td>\n",
       "      <td id=\"T_715c5_row0_col1\" class=\"data row0 col1\" >-0.279818</td>\n",
       "      <td id=\"T_715c5_row0_col2\" class=\"data row0 col2\" >-0.436912</td>\n",
       "      <td id=\"T_715c5_row0_col3\" class=\"data row0 col3\" >0.244676</td>\n",
       "    </tr>\n",
       "    <tr>\n",
       "      <th id=\"T_715c5_level0_row1\" class=\"row_heading level0 row1\" >user_answer</th>\n",
       "      <td id=\"T_715c5_row1_col0\" class=\"data row1 col0\" >-0.279818</td>\n",
       "      <td id=\"T_715c5_row1_col1\" class=\"data row1 col1\" >1.000000</td>\n",
       "      <td id=\"T_715c5_row1_col2\" class=\"data row1 col2\" >0.126471</td>\n",
       "      <td id=\"T_715c5_row1_col3\" class=\"data row1 col3\" >-0.529601</td>\n",
       "    </tr>\n",
       "    <tr>\n",
       "      <th id=\"T_715c5_level0_row2\" class=\"row_heading level0 row2\" >answered_correctly</th>\n",
       "      <td id=\"T_715c5_row2_col0\" class=\"data row2 col0\" >-0.436912</td>\n",
       "      <td id=\"T_715c5_row2_col1\" class=\"data row2 col1\" >0.126471</td>\n",
       "      <td id=\"T_715c5_row2_col2\" class=\"data row2 col2\" >1.000000</td>\n",
       "      <td id=\"T_715c5_row2_col3\" class=\"data row2 col3\" >0.532950</td>\n",
       "    </tr>\n",
       "    <tr>\n",
       "      <th id=\"T_715c5_level0_row3\" class=\"row_heading level0 row3\" >cor_ratio</th>\n",
       "      <td id=\"T_715c5_row3_col0\" class=\"data row3 col0\" >0.244676</td>\n",
       "      <td id=\"T_715c5_row3_col1\" class=\"data row3 col1\" >-0.529601</td>\n",
       "      <td id=\"T_715c5_row3_col2\" class=\"data row3 col2\" >0.532950</td>\n",
       "      <td id=\"T_715c5_row3_col3\" class=\"data row3 col3\" >1.000000</td>\n",
       "    </tr>\n",
       "  </tbody>\n",
       "</table>\n"
      ],
      "text/plain": [
       "<pandas.io.formats.style.Styler at 0x7fe592e76880>"
      ]
     },
     "execution_count": 41,
     "metadata": {},
     "output_type": "execute_result"
    }
   ],
   "source": [
    "df_corr.drop(df_corr.columns[[0, 1, 2, 4, 7]], axis = 1, inplace = True)\n",
    "df_corr.corr().style.background_gradient(cmap = cm, vmin = -1, vmax = 1)"
   ]
  },
  {
   "cell_type": "markdown",
   "id": "df9ff855-efd5-43a1-b663-ad9584126291",
   "metadata": {},
   "source": [
    "Затем выведем распределение успеваемости студентов:"
   ]
  },
  {
   "cell_type": "code",
   "execution_count": 65,
   "id": "3bf2eff5-7d36-4923-9b1c-b82072890d31",
   "metadata": {},
   "outputs": [
    {
     "data": {
      "text/plain": [
       "<AxesSubplot:xlabel='progress', ylabel='Count'>"
      ]
     },
     "execution_count": 65,
     "metadata": {},
     "output_type": "execute_result"
    },
    {
     "data": {
      "image/png": "[encoded data removed]",
      "text/plain": [
       "<Figure size 640x480 with 1 Axes>"
      ]
     },
     "metadata": {},
     "output_type": "display_data"
    }
   ],
   "source": [
    "sns.histplot(data = df_corr, x = 'progress', hue = 'content_type_id', bins = 10)"
   ]
  },
  {
   "cell_type": "markdown",
   "id": "de3de8b0-0016-453f-97a3-3be5d4b667fa",
   "metadata": {},
   "source": [
    "Из графиков можно сделать вывод, что успеваемость слабо зависит от типа контента (вопрос или лекция)."
   ]
  },
  {
   "cell_type": "markdown",
   "id": "d42e5f39-0efc-42a0-81d3-6554145fe7eb",
   "metadata": {},
   "source": [
    "Рассмотрим статистику ответов студентов"
   ]
  },
  {
   "cell_type": "markdown",
   "id": "b83b44dc-8d42-46ae-8225-b97cb22d44c4",
   "metadata": {},
   "source": [
    "Произведем поиск уникальных индетификаторов студентов"
   ]
  },
  {
   "cell_type": "code",
   "execution_count": 43,
   "id": "7af3bd22-a05b-454c-bf7f-f3501b2f1561",
   "metadata": {},
   "outputs": [
    {
     "data": {
      "text/plain": [
       "user_id    393656\n",
       "dtype: int64"
      ]
     },
     "execution_count": 43,
     "metadata": {},
     "output_type": "execute_result"
    }
   ],
   "source": [
    "df.agg({'user_id': pd.Series.nunique}) "
   ]
  },
  {
   "cell_type": "markdown",
   "id": "a1052f7b-a202-4925-90b8-1728967235ed",
   "metadata": {},
   "source": [
    "Сгруппируем общее количество ответов и количество правильных ответов каждого студента по его идентификатору в датафрейм answers_df"
   ]
  },
  {
   "cell_type": "code",
   "execution_count": 44,
   "id": "e3824ba3-d1a5-432c-bb4e-750537658d5b",
   "metadata": {},
   "outputs": [
    {
     "data": {
      "text/html": [
       "<div>\n",
       "<style scoped>\n",
       "    .dataframe tbody tr th:only-of-type {\n",
       "        vertical-align: middle;\n",
       "    }\n",
       "\n",
       "    .dataframe tbody tr th {\n",
       "        vertical-align: top;\n",
       "    }\n",
       "\n",
       "    .dataframe thead th {\n",
       "        text-align: right;\n",
       "    }\n",
       "</style>\n",
       "<table border=\"1\" class=\"dataframe\">\n",
       "  <thead>\n",
       "    <tr style=\"text-align: right;\">\n",
       "      <th></th>\n",
       "      <th>user_id</th>\n",
       "      <th>user_answer</th>\n",
       "      <th>answered_correctly</th>\n",
       "    </tr>\n",
       "  </thead>\n",
       "  <tbody>\n",
       "    <tr>\n",
       "      <th>0</th>\n",
       "      <td>115</td>\n",
       "      <td>72.0</td>\n",
       "      <td>32.0</td>\n",
       "    </tr>\n",
       "    <tr>\n",
       "      <th>1</th>\n",
       "      <td>124</td>\n",
       "      <td>49.0</td>\n",
       "      <td>7.0</td>\n",
       "    </tr>\n",
       "    <tr>\n",
       "      <th>2</th>\n",
       "      <td>2746</td>\n",
       "      <td>31.0</td>\n",
       "      <td>10.0</td>\n",
       "    </tr>\n",
       "    <tr>\n",
       "      <th>3</th>\n",
       "      <td>5382</td>\n",
       "      <td>169.0</td>\n",
       "      <td>81.0</td>\n",
       "    </tr>\n",
       "    <tr>\n",
       "      <th>4</th>\n",
       "      <td>8623</td>\n",
       "      <td>149.0</td>\n",
       "      <td>67.0</td>\n",
       "    </tr>\n",
       "  </tbody>\n",
       "</table>\n",
       "</div>"
      ],
      "text/plain": [
       "   user_id  user_answer  answered_correctly\n",
       "0      115         72.0                32.0\n",
       "1      124         49.0                 7.0\n",
       "2     2746         31.0                10.0\n",
       "3     5382        169.0                81.0\n",
       "4     8623        149.0                67.0"
      ]
     },
     "execution_count": 44,
     "metadata": {},
     "output_type": "execute_result"
    }
   ],
   "source": [
    "answers_df = df[['user_id', 'user_answer', 'answered_correctly']].groupby(['user_id'], as_index = False).sum()\n",
    "answers_df.head()"
   ]
  },
  {
   "cell_type": "markdown",
   "id": "2b56fdd8-76f2-453b-828b-ae741e188fbe",
   "metadata": {},
   "source": [
    "Выведем статистику датафрейма answers_df:"
   ]
  },
  {
   "cell_type": "code",
   "execution_count": 45,
   "id": "76670c82-0f40-4a42-8b2a-44a56efda4c3",
   "metadata": {},
   "outputs": [
    {
     "data": {
      "text/html": [
       "<div>\n",
       "<style scoped>\n",
       "    .dataframe tbody tr th:only-of-type {\n",
       "        vertical-align: middle;\n",
       "    }\n",
       "\n",
       "    .dataframe tbody tr th {\n",
       "        vertical-align: top;\n",
       "    }\n",
       "\n",
       "    .dataframe thead th {\n",
       "        text-align: right;\n",
       "    }\n",
       "</style>\n",
       "<table border=\"1\" class=\"dataframe\">\n",
       "  <thead>\n",
       "    <tr style=\"text-align: right;\">\n",
       "      <th></th>\n",
       "      <th>user_id</th>\n",
       "      <th>user_answer</th>\n",
       "      <th>answered_correctly</th>\n",
       "    </tr>\n",
       "  </thead>\n",
       "  <tbody>\n",
       "    <tr>\n",
       "      <th>count</th>\n",
       "      <td>3.936560e+05</td>\n",
       "      <td>393656.000000</td>\n",
       "      <td>393656.000000</td>\n",
       "    </tr>\n",
       "    <tr>\n",
       "      <th>mean</th>\n",
       "      <td>1.076358e+09</td>\n",
       "      <td>353.875889</td>\n",
       "      <td>160.763700</td>\n",
       "    </tr>\n",
       "    <tr>\n",
       "      <th>std</th>\n",
       "      <td>6.201319e+08</td>\n",
       "      <td>1038.467530</td>\n",
       "      <td>507.219402</td>\n",
       "    </tr>\n",
       "    <tr>\n",
       "      <th>min</th>\n",
       "      <td>1.150000e+02</td>\n",
       "      <td>0.000000</td>\n",
       "      <td>-11.000000</td>\n",
       "    </tr>\n",
       "    <tr>\n",
       "      <th>25%</th>\n",
       "      <td>5.387596e+08</td>\n",
       "      <td>37.000000</td>\n",
       "      <td>11.000000</td>\n",
       "    </tr>\n",
       "    <tr>\n",
       "      <th>50%</th>\n",
       "      <td>1.077717e+09</td>\n",
       "      <td>60.000000</td>\n",
       "      <td>23.000000</td>\n",
       "    </tr>\n",
       "    <tr>\n",
       "      <th>75%</th>\n",
       "      <td>1.613533e+09</td>\n",
       "      <td>214.000000</td>\n",
       "      <td>92.000000</td>\n",
       "    </tr>\n",
       "    <tr>\n",
       "      <th>max</th>\n",
       "      <td>2.147483e+09</td>\n",
       "      <td>25162.000000</td>\n",
       "      <td>14229.000000</td>\n",
       "    </tr>\n",
       "  </tbody>\n",
       "</table>\n",
       "</div>"
      ],
      "text/plain": [
       "            user_id    user_answer  answered_correctly\n",
       "count  3.936560e+05  393656.000000       393656.000000\n",
       "mean   1.076358e+09     353.875889          160.763700\n",
       "std    6.201319e+08    1038.467530          507.219402\n",
       "min    1.150000e+02       0.000000          -11.000000\n",
       "25%    5.387596e+08      37.000000           11.000000\n",
       "50%    1.077717e+09      60.000000           23.000000\n",
       "75%    1.613533e+09     214.000000           92.000000\n",
       "max    2.147483e+09   25162.000000        14229.000000"
      ]
     },
     "execution_count": 45,
     "metadata": {},
     "output_type": "execute_result"
    }
   ],
   "source": [
    "answers_df.describe()"
   ]
  },
  {
   "cell_type": "markdown",
   "id": "9679c8ba-4189-4cc3-800d-18514820bf50",
   "metadata": {},
   "source": [
    "Введем функцию, которая осуществляет сокращение разброса количества ответов студентов:"
   ]
  },
  {
   "cell_type": "code",
   "execution_count": 46,
   "id": "4180c21d-e290-45e5-9910-044baa82e07a",
   "metadata": {},
   "outputs": [],
   "source": [
    "def rem_emission(df, col, k_std): # зададим функцию\n",
    "        mean = df[col].mean() # среднее значение переданного столбца col\n",
    "        std_o = df[col].std() # стандартное отклонение переданного столбца col\n",
    "        return df[(df[col] <= mean + (k_std * std_o))]"
   ]
  },
  {
   "cell_type": "markdown",
   "id": "afde5a24-499f-45ef-808b-938205d84daa",
   "metadata": {},
   "source": [
    "Применим созданную функцию сокращения разброса ответов к датафрейму answers_df:"
   ]
  },
  {
   "cell_type": "code",
   "execution_count": 47,
   "id": "47f2cede-81fc-4446-92bf-8270abbe768c",
   "metadata": {},
   "outputs": [],
   "source": [
    "answers_df = rem_emission(answers_df, 'user_answer', 1) "
   ]
  },
  {
   "cell_type": "markdown",
   "id": "9b4fc689-27f0-4755-bee9-3f05237b77ae",
   "metadata": {},
   "source": [
    "Дополнительно добавим столбец progress успеваемости (соотношения количества правильных ответов к общему количеству ответов студентов):"
   ]
  },
  {
   "cell_type": "code",
   "execution_count": 48,
   "id": "2b3974a4-f2d4-4b1b-83b1-db74eff39f43",
   "metadata": {},
   "outputs": [],
   "source": [
    "answers_df['progress'] = answers_df.answered_correctly / answers_df.user_answer"
   ]
  },
  {
   "cell_type": "markdown",
   "id": "8eab739c-316e-49f5-a0fc-fd8ebd9285cc",
   "metadata": {},
   "source": [
    "Затем выведем первые 5 и последние 5 строк преобразованного датафрейма answers_df:"
   ]
  },
  {
   "cell_type": "code",
   "execution_count": 49,
   "id": "632ec33c-8868-4fd7-8956-3c82f0cd482e",
   "metadata": {},
   "outputs": [
    {
     "data": {
      "text/html": [
       "<div>\n",
       "<style scoped>\n",
       "    .dataframe tbody tr th:only-of-type {\n",
       "        vertical-align: middle;\n",
       "    }\n",
       "\n",
       "    .dataframe tbody tr th {\n",
       "        vertical-align: top;\n",
       "    }\n",
       "\n",
       "    .dataframe thead th {\n",
       "        text-align: right;\n",
       "    }\n",
       "</style>\n",
       "<table border=\"1\" class=\"dataframe\">\n",
       "  <thead>\n",
       "    <tr style=\"text-align: right;\">\n",
       "      <th></th>\n",
       "      <th>user_id</th>\n",
       "      <th>user_answer</th>\n",
       "      <th>answered_correctly</th>\n",
       "      <th>progress</th>\n",
       "    </tr>\n",
       "  </thead>\n",
       "  <tbody>\n",
       "    <tr>\n",
       "      <th>0</th>\n",
       "      <td>115</td>\n",
       "      <td>72.0</td>\n",
       "      <td>32.0</td>\n",
       "      <td>0.444444</td>\n",
       "    </tr>\n",
       "    <tr>\n",
       "      <th>1</th>\n",
       "      <td>124</td>\n",
       "      <td>49.0</td>\n",
       "      <td>7.0</td>\n",
       "      <td>0.142857</td>\n",
       "    </tr>\n",
       "    <tr>\n",
       "      <th>2</th>\n",
       "      <td>2746</td>\n",
       "      <td>31.0</td>\n",
       "      <td>10.0</td>\n",
       "      <td>0.322581</td>\n",
       "    </tr>\n",
       "    <tr>\n",
       "      <th>3</th>\n",
       "      <td>5382</td>\n",
       "      <td>169.0</td>\n",
       "      <td>81.0</td>\n",
       "      <td>0.479290</td>\n",
       "    </tr>\n",
       "    <tr>\n",
       "      <th>4</th>\n",
       "      <td>8623</td>\n",
       "      <td>149.0</td>\n",
       "      <td>67.0</td>\n",
       "      <td>0.449664</td>\n",
       "    </tr>\n",
       "    <tr>\n",
       "      <th>...</th>\n",
       "      <td>...</td>\n",
       "      <td>...</td>\n",
       "      <td>...</td>\n",
       "      <td>...</td>\n",
       "    </tr>\n",
       "    <tr>\n",
       "      <th>393651</th>\n",
       "      <td>2147470770</td>\n",
       "      <td>308.0</td>\n",
       "      <td>171.0</td>\n",
       "      <td>0.555195</td>\n",
       "    </tr>\n",
       "    <tr>\n",
       "      <th>393652</th>\n",
       "      <td>2147470777</td>\n",
       "      <td>1066.0</td>\n",
       "      <td>514.0</td>\n",
       "      <td>0.482176</td>\n",
       "    </tr>\n",
       "    <tr>\n",
       "      <th>393653</th>\n",
       "      <td>2147481750</td>\n",
       "      <td>52.0</td>\n",
       "      <td>38.0</td>\n",
       "      <td>0.730769</td>\n",
       "    </tr>\n",
       "    <tr>\n",
       "      <th>393654</th>\n",
       "      <td>2147482216</td>\n",
       "      <td>363.0</td>\n",
       "      <td>172.0</td>\n",
       "      <td>0.473829</td>\n",
       "    </tr>\n",
       "    <tr>\n",
       "      <th>393655</th>\n",
       "      <td>2147482888</td>\n",
       "      <td>38.0</td>\n",
       "      <td>15.0</td>\n",
       "      <td>0.394737</td>\n",
       "    </tr>\n",
       "  </tbody>\n",
       "</table>\n",
       "<p>370632 rows × 4 columns</p>\n",
       "</div>"
      ],
      "text/plain": [
       "           user_id  user_answer  answered_correctly  progress\n",
       "0              115         72.0                32.0  0.444444\n",
       "1              124         49.0                 7.0  0.142857\n",
       "2             2746         31.0                10.0  0.322581\n",
       "3             5382        169.0                81.0  0.479290\n",
       "4             8623        149.0                67.0  0.449664\n",
       "...            ...          ...                 ...       ...\n",
       "393651  2147470770        308.0               171.0  0.555195\n",
       "393652  2147470777       1066.0               514.0  0.482176\n",
       "393653  2147481750         52.0                38.0  0.730769\n",
       "393654  2147482216        363.0               172.0  0.473829\n",
       "393655  2147482888         38.0                15.0  0.394737\n",
       "\n",
       "[370632 rows x 4 columns]"
      ]
     },
     "execution_count": 49,
     "metadata": {},
     "output_type": "execute_result"
    }
   ],
   "source": [
    "answers_df"
   ]
  },
  {
   "cell_type": "markdown",
   "id": "f636a607-e5e6-4866-80fd-6de4b90f2c53",
   "metadata": {},
   "source": [
    "Выведем обновленную статистику датафрейма answers_df при помощи метода .describe:"
   ]
  },
  {
   "cell_type": "code",
   "execution_count": 50,
   "id": "42387e84-37c7-41c8-9229-4ad05415c90c",
   "metadata": {},
   "outputs": [
    {
     "data": {
      "text/html": [
       "<div>\n",
       "<style scoped>\n",
       "    .dataframe tbody tr th:only-of-type {\n",
       "        vertical-align: middle;\n",
       "    }\n",
       "\n",
       "    .dataframe tbody tr th {\n",
       "        vertical-align: top;\n",
       "    }\n",
       "\n",
       "    .dataframe thead th {\n",
       "        text-align: right;\n",
       "    }\n",
       "</style>\n",
       "<table border=\"1\" class=\"dataframe\">\n",
       "  <thead>\n",
       "    <tr style=\"text-align: right;\">\n",
       "      <th></th>\n",
       "      <th>user_id</th>\n",
       "      <th>user_answer</th>\n",
       "      <th>answered_correctly</th>\n",
       "      <th>progress</th>\n",
       "    </tr>\n",
       "  </thead>\n",
       "  <tbody>\n",
       "    <tr>\n",
       "      <th>count</th>\n",
       "      <td>3.706320e+05</td>\n",
       "      <td>370632.000000</td>\n",
       "      <td>370632.000000</td>\n",
       "      <td>3.706150e+05</td>\n",
       "    </tr>\n",
       "    <tr>\n",
       "      <th>mean</th>\n",
       "      <td>1.076382e+09</td>\n",
       "      <td>162.647402</td>\n",
       "      <td>69.718044</td>\n",
       "      <td>inf</td>\n",
       "    </tr>\n",
       "    <tr>\n",
       "      <th>std</th>\n",
       "      <td>6.201116e+08</td>\n",
       "      <td>247.494832</td>\n",
       "      <td>115.027280</td>\n",
       "      <td>NaN</td>\n",
       "    </tr>\n",
       "    <tr>\n",
       "      <th>min</th>\n",
       "      <td>1.150000e+02</td>\n",
       "      <td>0.000000</td>\n",
       "      <td>-11.000000</td>\n",
       "      <td>-1.929825e-01</td>\n",
       "    </tr>\n",
       "    <tr>\n",
       "      <th>25%</th>\n",
       "      <td>5.386172e+08</td>\n",
       "      <td>36.000000</td>\n",
       "      <td>11.000000</td>\n",
       "      <td>2.926829e-01</td>\n",
       "    </tr>\n",
       "    <tr>\n",
       "      <th>50%</th>\n",
       "      <td>1.077896e+09</td>\n",
       "      <td>55.000000</td>\n",
       "      <td>20.000000</td>\n",
       "      <td>3.902439e-01</td>\n",
       "    </tr>\n",
       "    <tr>\n",
       "      <th>75%</th>\n",
       "      <td>1.613481e+09</td>\n",
       "      <td>159.000000</td>\n",
       "      <td>67.000000</td>\n",
       "      <td>4.705882e-01</td>\n",
       "    </tr>\n",
       "    <tr>\n",
       "      <th>max</th>\n",
       "      <td>2.147483e+09</td>\n",
       "      <td>1392.000000</td>\n",
       "      <td>920.000000</td>\n",
       "      <td>inf</td>\n",
       "    </tr>\n",
       "  </tbody>\n",
       "</table>\n",
       "</div>"
      ],
      "text/plain": [
       "            user_id    user_answer  answered_correctly      progress\n",
       "count  3.706320e+05  370632.000000       370632.000000  3.706150e+05\n",
       "mean   1.076382e+09     162.647402           69.718044           inf\n",
       "std    6.201116e+08     247.494832          115.027280           NaN\n",
       "min    1.150000e+02       0.000000          -11.000000 -1.929825e-01\n",
       "25%    5.386172e+08      36.000000           11.000000  2.926829e-01\n",
       "50%    1.077896e+09      55.000000           20.000000  3.902439e-01\n",
       "75%    1.613481e+09     159.000000           67.000000  4.705882e-01\n",
       "max    2.147483e+09    1392.000000          920.000000           inf"
      ]
     },
     "execution_count": 50,
     "metadata": {},
     "output_type": "execute_result"
    }
   ],
   "source": [
    "answers_df.describe()"
   ]
  },
  {
   "cell_type": "markdown",
   "id": "6f556805-8cb8-4f6d-add9-516e9124e8ca",
   "metadata": {},
   "source": [
    "# 3.2.5.1 Рассмотрем зависимость успеваемости студентов от общего количества ответов "
   ]
  },
  {
   "cell_type": "markdown",
   "id": "53cc7a51-5bd6-408a-9df8-d24fbebf9f65",
   "metadata": {},
   "source": [
    "Рассчитаем медианное значение количества ответов студентов:"
   ]
  },
  {
   "cell_type": "code",
   "execution_count": 51,
   "id": "6c66c3e6-c974-45e9-80f8-d157b91fbeff",
   "metadata": {},
   "outputs": [
    {
     "name": "stdout",
     "output_type": "stream",
     "text": [
      "55\n"
     ]
    }
   ],
   "source": [
    "answers_med = answers_df.user_answer.median()\n",
    "print(int(answers_med))"
   ]
  },
  {
   "cell_type": "markdown",
   "id": "31e0ee94-403d-4aac-a6b4-93625244cb70",
   "metadata": {},
   "source": [
    "Визуализируем данные о количестве ответов студентов:"
   ]
  },
  {
   "cell_type": "code",
   "execution_count": 52,
   "id": "458bac70-8532-4df6-a031-626d8846cf11",
   "metadata": {},
   "outputs": [
    {
     "data": {
      "text/plain": [
       "<AxesSubplot:xlabel='user_answer', ylabel='Count'>"
      ]
     },
     "execution_count": 52,
     "metadata": {},
     "output_type": "execute_result"
    },
    {
     "data": {
      "image/png": "[encoded data removed]",
      "text/plain": [
       "<Figure size 640x480 with 1 Axes>"
      ]
     },
     "metadata": {},
     "output_type": "display_data"
    }
   ],
   "source": [
    "sns.histplot(data = answers_df, x = 'user_answer')"
   ]
  },
  {
   "cell_type": "markdown",
   "id": "66bf9077-54ff-47fb-bf24-055039ef984e",
   "metadata": {},
   "source": [
    "Из графика видно заметное смещение количества ответов в интервал от 0 до 100."
   ]
  },
  {
   "cell_type": "markdown",
   "id": "f6216b1f-69c5-4906-bead-02441af75b03",
   "metadata": {},
   "source": [
    "Визуализируем распределение количества ответов студентов, которое больше медианного:"
   ]
  },
  {
   "cell_type": "code",
   "execution_count": 53,
   "id": "7d0703af-2500-4427-8895-2f8eddc3d35b",
   "metadata": {},
   "outputs": [
    {
     "name": "stdout",
     "output_type": "stream",
     "text": [
      "0.42748091603053434\n"
     ]
    },
    {
     "data": {
      "text/plain": [
       "<AxesSubplot:>"
      ]
     },
     "execution_count": 53,
     "metadata": {},
     "output_type": "execute_result"
    },
    {
     "data": {
      "image/png": "[encoded data removed]",
      "text/plain": [
       "<Figure size 640x480 with 1 Axes>"
      ]
     },
     "metadata": {},
     "output_type": "display_data"
    }
   ],
   "source": [
    "print(answers_df.query('user_answer > 55')['progress'].median())\n",
    "answers_df.query('user_answer > 55')['progress'].hist(bins = 50, color = 'orange')"
   ]
  },
  {
   "cell_type": "markdown",
   "id": "4272e730-7871-4e3e-a872-6e51e8dc9828",
   "metadata": {},
   "source": [
    "Визуализиурем распределение количества ответов студентов, которое которое больше 75%:\n"
   ]
  },
  {
   "cell_type": "code",
   "execution_count": 54,
   "id": "2c280a1f-f0a6-46a0-ad43-130751179295",
   "metadata": {},
   "outputs": [
    {
     "name": "stdout",
     "output_type": "stream",
     "text": [
      "0.44871794871794873\n"
     ]
    },
    {
     "data": {
      "text/plain": [
       "<AxesSubplot:>"
      ]
     },
     "execution_count": 54,
     "metadata": {},
     "output_type": "execute_result"
    },
    {
     "data": {
      "image/png": "[encoded data removed]",
      "text/plain": [
       "<Figure size 640x480 with 1 Axes>"
      ]
     },
     "metadata": {},
     "output_type": "display_data"
    }
   ],
   "source": [
    "print(answers_df.query('user_answer > 151')['progress'].median())\n",
    "answers_df.query('user_answer > 151')['progress'].hist(bins = 50, color = 'yellow')"
   ]
  },
  {
   "cell_type": "markdown",
   "id": "3d1f7143-5c93-4e53-bca8-b8fd8e4f5d51",
   "metadata": {},
   "source": [
    "Визуализируем распределение количества ответов студентов, которое больше 100:"
   ]
  },
  {
   "cell_type": "code",
   "execution_count": 55,
   "id": "458ef0f4-e740-4f5d-95bc-28453ee3660e",
   "metadata": {},
   "outputs": [
    {
     "name": "stdout",
     "output_type": "stream",
     "text": [
      "0.44360902255639095\n"
     ]
    },
    {
     "data": {
      "text/plain": [
       "<AxesSubplot:>"
      ]
     },
     "execution_count": 55,
     "metadata": {},
     "output_type": "execute_result"
    },
    {
     "data": {
      "image/png": "[encoded data removed]",
      "text/plain": [
       "<Figure size 640x480 with 1 Axes>"
      ]
     },
     "metadata": {},
     "output_type": "display_data"
    }
   ],
   "source": [
    "print(answers_df.query('user_answer > 100')['progress'].median())\n",
    "answers_df.query('user_answer > 100')['progress'].hist(bins = 50, color = 'green')"
   ]
  },
  {
   "cell_type": "markdown",
   "id": "037273ce-eb83-4729-996e-2619efe09851",
   "metadata": {},
   "source": [
    "Визуализируем распределение количества ответов студентов, которое больше 50:"
   ]
  },
  {
   "cell_type": "code",
   "execution_count": 56,
   "id": "6a444296-3f72-4001-9051-c5d8c93fc895",
   "metadata": {},
   "outputs": [
    {
     "name": "stdout",
     "output_type": "stream",
     "text": [
      "0.42168674698795183\n"
     ]
    },
    {
     "data": {
      "text/plain": [
       "<AxesSubplot:>"
      ]
     },
     "execution_count": 56,
     "metadata": {},
     "output_type": "execute_result"
    },
    {
     "data": {
      "image/png": "[encoded data removed]",
      "text/plain": [
       "<Figure size 640x480 with 1 Axes>"
      ]
     },
     "metadata": {},
     "output_type": "display_data"
    }
   ],
   "source": [
    "print(answers_df.query('0 < user_answer > 50')['progress'].median())\n",
    "answers_df.query('0 < user_answer > 50')['progress'].hist(bins = 50, color = 'blue')"
   ]
  },
  {
   "cell_type": "markdown",
   "id": "dde2eca3-7f3d-43d5-b261-ceab11e88ac0",
   "metadata": {},
   "source": [
    "Исходя из полученых графиков можно сделать вывод, что успеваемость студентов, ответивших на количество вопросов, которое меньше медианного значения, хуже по сравнению с теми, кто ответил на количество вопросов, которое больше медианного значения."
   ]
  },
  {
   "cell_type": "markdown",
   "id": "6ce3d689-acb7-41b7-adfe-42b4f550bc7e",
   "metadata": {},
   "source": [
    "При этом количество ответов, которое выше медианного значения, незначительно сказывается на качественных показателях исследования, то есть на количестве правильных ответов."
   ]
  },
  {
   "cell_type": "markdown",
   "id": "75c92877-6a81-48ef-9e08-f06054caf029",
   "metadata": {},
   "source": [
    "# 3.2.5.2 Теперь определим возможные взаимные связи таких показателей, как время взаимодействия со студентом, завершение первого события от него, среднее время ответа на каждый вопрос, количество правильных ответов, общее количество ответов студентов."
   ]
  },
  {
   "cell_type": "markdown",
   "id": "af88d0df-a593-41af-b028-7acafd0581d2",
   "metadata": {},
   "source": [
    "Сгруппируем общее количество ответов, количество правильных ответов и время ответа на каждый вопрос студентов по их идентификаторам в датафрейм correlation:"
   ]
  },
  {
   "cell_type": "code",
   "execution_count": 66,
   "id": "84144a6c-7f57-4f86-9314-28749521d294",
   "metadata": {},
   "outputs": [],
   "source": [
    "correlation = df[['user_id', 'user_answer', 'answered_correctly', 'timestamp', \\\n",
    "    'prior_question_elapsed_time']].groupby(['user_id'], as_index = False).sum()"
   ]
  },
  {
   "cell_type": "markdown",
   "id": "4d443a62-a730-4d55-85af-3509e65c9d4e",
   "metadata": {},
   "source": [
    "Дополнительно добавим столбец timestamp_ratio соотношения времени между взаимодействием со студентом и завершением первого события от него к общему количеству ответов студентов:"
   ]
  },
  {
   "cell_type": "code",
   "execution_count": 67,
   "id": "f8252420-327f-4b6c-86be-16c64d77ff97",
   "metadata": {},
   "outputs": [],
   "source": [
    "correlation['timestamp_ratio'] = correlation ['timestamp'] / correlation ['user_answer']"
   ]
  },
  {
   "cell_type": "markdown",
   "id": "eba9befd-d514-42cb-b636-0e8de3284e9a",
   "metadata": {},
   "source": [
    "Кроме этого, добавим столбец elapsed_time_ratio соотношения среднего времени ответа на каждый вопрос к общему количеству ответов студентов:"
   ]
  },
  {
   "cell_type": "code",
   "execution_count": 68,
   "id": "aecd47d6-cf3d-443b-9e13-d2a8f4c9d1a9",
   "metadata": {},
   "outputs": [],
   "source": [
    "correlation ['elapsed_time_ratio'] = correlation['prior_question_elapsed_time'] / correlation['user_answer']"
   ]
  },
  {
   "cell_type": "markdown",
   "id": "c9115503-1532-4b9e-b596-8964a621f6ff",
   "metadata": {},
   "source": [
    "Помимо этого, добавим столбец progress - успеваемости (соотношения количетсва правильных ответов к общему количеству ответов студентов)\n"
   ]
  },
  {
   "cell_type": "code",
   "execution_count": 69,
   "id": "bb10f85b-03f4-45e4-b285-62e8b898d7ee",
   "metadata": {},
   "outputs": [],
   "source": [
    "correlation['performance'] = correlation.answered_correctly / correlation.user_answer"
   ]
  },
  {
   "cell_type": "markdown",
   "id": "d0c7bf90-0b4f-4747-929f-c4d5ec07dd6a",
   "metadata": {},
   "source": [
    "Кроме того, удаляем ненужные столбцы:"
   ]
  },
  {
   "cell_type": "code",
   "execution_count": 70,
   "id": "1ead381c-d4ee-498b-a276-bfa8f06ddb83",
   "metadata": {},
   "outputs": [],
   "source": [
    "correlation.drop(correlation.columns[[0, 2, 3, 4]], axis = 1, inplace = True)"
   ]
  },
  {
   "cell_type": "markdown",
   "id": "ddde0cd4-7fc7-4de7-9a47-cbef5b4b0681",
   "metadata": {},
   "source": [
    "Наконец, вызываем функцию сокращения разброса ответов:"
   ]
  },
  {
   "cell_type": "code",
   "execution_count": 71,
   "id": "d983f35a-e00b-475d-b0ba-2d8fb0e72af1",
   "metadata": {},
   "outputs": [],
   "source": [
    "correlation = rem_emission(correlation, 'user_answer', 1)"
   ]
  },
  {
   "cell_type": "markdown",
   "id": "ff78848d-9d19-45b1-8784-457196b66d24",
   "metadata": {},
   "source": [
    "Осуществим проверку проведенных операций и выводим выводим первые 5 и последние 5 строк полученного датафрейма correlation:"
   ]
  },
  {
   "cell_type": "code",
   "execution_count": 72,
   "id": "c503b7a9-dee3-4a57-97a0-41777d3cfd3e",
   "metadata": {},
   "outputs": [
    {
     "data": {
      "text/html": [
       "<div>\n",
       "<style scoped>\n",
       "    .dataframe tbody tr th:only-of-type {\n",
       "        vertical-align: middle;\n",
       "    }\n",
       "\n",
       "    .dataframe tbody tr th {\n",
       "        vertical-align: top;\n",
       "    }\n",
       "\n",
       "    .dataframe thead th {\n",
       "        text-align: right;\n",
       "    }\n",
       "</style>\n",
       "<table border=\"1\" class=\"dataframe\">\n",
       "  <thead>\n",
       "    <tr style=\"text-align: right;\">\n",
       "      <th></th>\n",
       "      <th>user_answer</th>\n",
       "      <th>timestamp_ratio</th>\n",
       "      <th>elapsed_time_ratio</th>\n",
       "      <th>performance</th>\n",
       "    </tr>\n",
       "  </thead>\n",
       "  <tbody>\n",
       "    <tr>\n",
       "      <th>0</th>\n",
       "      <td>72.0</td>\n",
       "      <td>6.524638e+07</td>\n",
       "      <td>12458.319444</td>\n",
       "      <td>0.444444</td>\n",
       "    </tr>\n",
       "    <tr>\n",
       "      <th>1</th>\n",
       "      <td>49.0</td>\n",
       "      <td>2.252203e+05</td>\n",
       "      <td>11122.387755</td>\n",
       "      <td>0.142857</td>\n",
       "    </tr>\n",
       "    <tr>\n",
       "      <th>2</th>\n",
       "      <td>31.0</td>\n",
       "      <td>2.472123e+05</td>\n",
       "      <td>10483.870968</td>\n",
       "      <td>0.322581</td>\n",
       "    </tr>\n",
       "    <tr>\n",
       "      <th>3</th>\n",
       "      <td>169.0</td>\n",
       "      <td>2.879101e+08</td>\n",
       "      <td>26449.704142</td>\n",
       "      <td>0.479290</td>\n",
       "    </tr>\n",
       "    <tr>\n",
       "      <th>4</th>\n",
       "      <td>149.0</td>\n",
       "      <td>2.615750e+08</td>\n",
       "      <td>18923.489933</td>\n",
       "      <td>0.449664</td>\n",
       "    </tr>\n",
       "    <tr>\n",
       "      <th>...</th>\n",
       "      <td>...</td>\n",
       "      <td>...</td>\n",
       "      <td>...</td>\n",
       "      <td>...</td>\n",
       "    </tr>\n",
       "    <tr>\n",
       "      <th>393651</th>\n",
       "      <td>308.0</td>\n",
       "      <td>8.478458e+08</td>\n",
       "      <td>16924.224026</td>\n",
       "      <td>0.555195</td>\n",
       "    </tr>\n",
       "    <tr>\n",
       "      <th>393652</th>\n",
       "      <td>1066.0</td>\n",
       "      <td>8.108421e+09</td>\n",
       "      <td>14109.855535</td>\n",
       "      <td>0.482176</td>\n",
       "    </tr>\n",
       "    <tr>\n",
       "      <th>393653</th>\n",
       "      <td>52.0</td>\n",
       "      <td>2.110661e+07</td>\n",
       "      <td>16903.846154</td>\n",
       "      <td>0.730769</td>\n",
       "    </tr>\n",
       "    <tr>\n",
       "      <th>393654</th>\n",
       "      <td>363.0</td>\n",
       "      <td>6.621266e+08</td>\n",
       "      <td>14765.840220</td>\n",
       "      <td>0.473829</td>\n",
       "    </tr>\n",
       "    <tr>\n",
       "      <th>393655</th>\n",
       "      <td>38.0</td>\n",
       "      <td>1.888598e+08</td>\n",
       "      <td>18605.263158</td>\n",
       "      <td>0.394737</td>\n",
       "    </tr>\n",
       "  </tbody>\n",
       "</table>\n",
       "<p>370632 rows × 4 columns</p>\n",
       "</div>"
      ],
      "text/plain": [
       "        user_answer  timestamp_ratio  elapsed_time_ratio  performance\n",
       "0              72.0     6.524638e+07        12458.319444     0.444444\n",
       "1              49.0     2.252203e+05        11122.387755     0.142857\n",
       "2              31.0     2.472123e+05        10483.870968     0.322581\n",
       "3             169.0     2.879101e+08        26449.704142     0.479290\n",
       "4             149.0     2.615750e+08        18923.489933     0.449664\n",
       "...             ...              ...                 ...          ...\n",
       "393651        308.0     8.478458e+08        16924.224026     0.555195\n",
       "393652       1066.0     8.108421e+09        14109.855535     0.482176\n",
       "393653         52.0     2.110661e+07        16903.846154     0.730769\n",
       "393654        363.0     6.621266e+08        14765.840220     0.473829\n",
       "393655         38.0     1.888598e+08        18605.263158     0.394737\n",
       "\n",
       "[370632 rows x 4 columns]"
      ]
     },
     "execution_count": 72,
     "metadata": {},
     "output_type": "execute_result"
    }
   ],
   "source": [
    "correlation"
   ]
  },
  {
   "cell_type": "markdown",
   "id": "1abd62c6-b12c-4dfc-966a-ea179908166a",
   "metadata": {},
   "source": [
    "# 3.2.5.3 Визуализируем указанные выше зависимости с использованием функции regplot()"
   ]
  },
  {
   "cell_type": "code",
   "execution_count": 73,
   "id": "7c2fa25b-d422-4f35-98c4-35df0b297e2a",
   "metadata": {},
   "outputs": [
    {
     "name": "stderr",
     "output_type": "stream",
     "text": [
      "/Users/ivanivanov/opt/anaconda3/lib/python3.9/site-packages/numpy/lib/nanfunctions.py:1395: RuntimeWarning: All-NaN slice encountered\n",
      "  result = np.apply_along_axis(_nanquantile_1d, axis, a, q,\n"
     ]
    },
    {
     "data": {
      "text/plain": [
       "<AxesSubplot:xlabel='user_answer', ylabel='timestamp_ratio'>"
      ]
     },
     "execution_count": 73,
     "metadata": {},
     "output_type": "execute_result"
    },
    {
     "data": {
      "image/png": "[encoded data removed]",
      "text/plain": [
       "<Figure size 640x480 with 1 Axes>"
      ]
     },
     "metadata": {},
     "output_type": "display_data"
    }
   ],
   "source": [
    "sns.regplot(data = correlation, x = 'user_answer', y = 'timestamp_ratio', color = 'red')"
   ]
  },
  {
   "cell_type": "code",
   "execution_count": 74,
   "id": "3480d718-40aa-452c-ac69-4e8d7ac45fe0",
   "metadata": {},
   "outputs": [
    {
     "data": {
      "text/plain": [
       "<AxesSubplot:xlabel='user_answer', ylabel='elapsed_time_ratio'>"
      ]
     },
     "execution_count": 74,
     "metadata": {},
     "output_type": "execute_result"
    },
    {
     "data": {
      "image/png": "[encoded data removed]",
      "text/plain": [
       "<Figure size 640x480 with 1 Axes>"
      ]
     },
     "metadata": {},
     "output_type": "display_data"
    }
   ],
   "source": [
    "sns.regplot(data = correlation, x = 'user_answer', y = 'elapsed_time_ratio', color = 'yellow')"
   ]
  },
  {
   "cell_type": "code",
   "execution_count": 75,
   "id": "6e60c3c0-c16c-4ca2-af86-311e3d89b7a2",
   "metadata": {},
   "outputs": [
    {
     "name": "stderr",
     "output_type": "stream",
     "text": [
      "/Users/ivanivanov/opt/anaconda3/lib/python3.9/site-packages/numpy/core/function_base.py:151: RuntimeWarning: invalid value encountered in multiply\n",
      "  y *= step\n"
     ]
    },
    {
     "data": {
      "text/plain": [
       "<AxesSubplot:xlabel='timestamp_ratio', ylabel='performance'>"
      ]
     },
     "execution_count": 75,
     "metadata": {},
     "output_type": "execute_result"
    },
    {
     "data": {
      "image/png": "[encoded data removed]",
      "text/plain": [
       "<Figure size 640x480 with 1 Axes>"
      ]
     },
     "metadata": {},
     "output_type": "display_data"
    }
   ],
   "source": [
    "sns.regplot(data = correlation, x = 'timestamp_ratio', y = 'performance', color = 'purple')"
   ]
  },
  {
   "cell_type": "code",
   "execution_count": 76,
   "id": "e18e2168-3cea-4ae4-acc2-792ca57e59f4",
   "metadata": {},
   "outputs": [
    {
     "data": {
      "text/plain": [
       "<AxesSubplot:xlabel='elapsed_time_ratio', ylabel='performance'>"
      ]
     },
     "execution_count": 76,
     "metadata": {},
     "output_type": "execute_result"
    },
    {
     "data": {
      "image/png": "[encoded data removed]",
      "text/plain": [
       "<Figure size 640x480 with 1 Axes>"
      ]
     },
     "metadata": {},
     "output_type": "display_data"
    }
   ],
   "source": [
    "sns.regplot(data = correlation, x = 'elapsed_time_ratio', y = 'performance', color = 'blue')\n"
   ]
  },
  {
   "cell_type": "markdown",
   "id": "8019d2c6-4766-4708-9d8e-716ab4f9a46a",
   "metadata": {},
   "source": [
    "# Выводы"
   ]
  },
  {
   "cell_type": "markdown",
   "id": "6b2af050-6197-4d3a-bd50-c69bfe675a50",
   "metadata": {},
   "source": [
    "По результатам проведенного анализа можно сделать выводы о том, что:\n",
    "-  на успеваемость студентов влияет главным образом количество ответов студентов, которое больше медианного значения количества ответов (которое, в свою очередь, равно 55 ответам);\n",
    "- при этом тип контента и соотношение количества правильных ответов к среднему времени ответа на каждый вопрос либо к общему количеству ответов студентов - влияют на успеваемость слабо."
   ]
  }
 ],
 "metadata": {
  "kernelspec": {
   "display_name": "Python 3 (ipykernel)",
   "language": "python",
   "name": "python3"
  },
  "language_info": {
   "codemirror_mode": {
    "name": "ipython",
    "version": 3
   },
   "file_extension": ".py",
   "mimetype": "text/x-python",
   "name": "python",
   "nbconvert_exporter": "python",
   "pygments_lexer": "ipython3",
   "version": "3.9.13"
  }
 },
 "nbformat": 4,
 "nbformat_minor": 5
}
